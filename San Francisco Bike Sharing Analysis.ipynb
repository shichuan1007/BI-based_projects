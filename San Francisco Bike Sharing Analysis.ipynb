{
 "cells": [
  {
   "cell_type": "markdown",
   "metadata": {
    "toc": true
   },
   "source": [
    "<h1>Table of Contents<span class=\"tocSkip\"></span></h1>\n",
    "<div class=\"toc\"><ul class=\"toc-item\"><li><span><a href=\"#San-Francisco-Bike-Sharing-Analysis\" data-toc-modified-id=\"San-Francisco-Bike-Sharing-Analysis-1\"><span class=\"toc-item-num\">1&nbsp;&nbsp;</span>San Francisco Bike Sharing Analysis</a></span><ul class=\"toc-item\"><li><span><a href=\"#Introduction\" data-toc-modified-id=\"Introduction-1.1\"><span class=\"toc-item-num\">1.1&nbsp;&nbsp;</span>Introduction</a></span></li><li><span><a href=\"#Data-Dictionary\" data-toc-modified-id=\"Data-Dictionary-1.2\"><span class=\"toc-item-num\">1.2&nbsp;&nbsp;</span>Data Dictionary</a></span><ul class=\"toc-item\"><li><span><a href=\"#Bikeshare_trips\" data-toc-modified-id=\"Bikeshare_trips-1.2.1\"><span class=\"toc-item-num\">1.2.1&nbsp;&nbsp;</span>Bikeshare_trips</a></span></li><li><span><a href=\"#Bikeshare_status\" data-toc-modified-id=\"Bikeshare_status-1.2.2\"><span class=\"toc-item-num\">1.2.2&nbsp;&nbsp;</span>Bikeshare_status</a></span></li><li><span><a href=\"#Bikeshare_stations\" data-toc-modified-id=\"Bikeshare_stations-1.2.3\"><span class=\"toc-item-num\">1.2.3&nbsp;&nbsp;</span>Bikeshare_stations</a></span></li></ul></li><li><span><a href=\"#Data-Acquisition-and-Analysis\" data-toc-modified-id=\"Data-Acquisition-and-Analysis-1.3\"><span class=\"toc-item-num\">1.3&nbsp;&nbsp;</span>Data Acquisition and Analysis</a></span><ul class=\"toc-item\"><li><span><a href=\"#Loading-Libraries\" data-toc-modified-id=\"Loading-Libraries-1.3.1\"><span class=\"toc-item-num\">1.3.1&nbsp;&nbsp;</span>Loading Libraries</a></span></li><li><span><a href=\"#Does-bike-shares-show-downward-trending-in-2016?\" data-toc-modified-id=\"Does-bike-shares-show-downward-trending-in-2016?-1.3.2\"><span class=\"toc-item-num\">1.3.2&nbsp;&nbsp;</span>Does bike shares show downward trending in 2016?</a></span></li><li><span><a href=\"#How-is-subscriber-monthly-usage-comparing-to-customer?\" data-toc-modified-id=\"How-is-subscriber-monthly-usage-comparing-to-customer?-1.3.3\"><span class=\"toc-item-num\">1.3.3&nbsp;&nbsp;</span>How is subscriber monthly usage comparing to customer?</a></span></li><li><span><a href=\"#How-does-seasonality-affect-bike-shares?\" data-toc-modified-id=\"How-does-seasonality-affect-bike-shares?-1.3.4\"><span class=\"toc-item-num\">1.3.4&nbsp;&nbsp;</span>How does seasonality affect bike shares?</a></span></li><li><span><a href=\"#What-is-avg-lifespan-of-the-bikes-in-this-dataset?\" data-toc-modified-id=\"What-is-avg-lifespan-of-the-bikes-in-this-dataset?-1.3.5\"><span class=\"toc-item-num\">1.3.5&nbsp;&nbsp;</span>What is avg lifespan of the bikes in this dataset?</a></span></li><li><span><a href=\"#What-are-the-top-3-start-end-station-pairings-each-year?\" data-toc-modified-id=\"What-are-the-top-3-start-end-station-pairings-each-year?-1.3.6\"><span class=\"toc-item-num\">1.3.6&nbsp;&nbsp;</span>What are the top 3 start-end station pairings each year?</a></span></li><li><span><a href=\"#Visualize-numbers-of-bikes-available-on-Sept-1,-2015-on-a-map-view\" data-toc-modified-id=\"Visualize-numbers-of-bikes-available-on-Sept-1,-2015-on-a-map-view-1.3.7\"><span class=\"toc-item-num\">1.3.7&nbsp;&nbsp;</span>Visualize numbers of bikes available on Sept 1, 2015 on a map view</a></span></li><li><span><a href=\"#Is-there-any-station-without-any-activities-on-a-particular-day-of-2015\" data-toc-modified-id=\"Is-there-any-station-without-any-activities-on-a-particular-day-of-2015-1.3.8\"><span class=\"toc-item-num\">1.3.8&nbsp;&nbsp;</span>Is there any station without any activities on a particular day of 2015</a></span><ul class=\"toc-item\"><li><span><a href=\"#Top-10-inactive-dates\" data-toc-modified-id=\"Top-10-inactive-dates-1.3.8.1\"><span class=\"toc-item-num\">1.3.8.1&nbsp;&nbsp;</span>Top 10 inactive dates</a></span></li><li><span><a href=\"#Top-10-inactive-stations\" data-toc-modified-id=\"Top-10-inactive-stations-1.3.8.2\"><span class=\"toc-item-num\">1.3.8.2&nbsp;&nbsp;</span>Top 10 inactive stations</a></span></li></ul></li><li><span><a href=\"#Using-Bikeshare_inventory_snapshot-and-bikeshare_trip_transaction-,-validate-following-assumption-that:\" data-toc-modified-id=\"Using-Bikeshare_inventory_snapshot-and-bikeshare_trip_transaction-,-validate-following-assumption-that:-1.3.9\"><span class=\"toc-item-num\">1.3.9&nbsp;&nbsp;</span>Using Bikeshare_inventory_snapshot and bikeshare_trip_transaction , validate following assumption that:</a></span><ul class=\"toc-item\"><li><span><a href=\"#Acquire-a-bikeshare-inventory-snapshot-of-each-station-to-see-how-many-bikes-are-available-at-the-beginning-of-the-date-and-the-end-of-the-date\" data-toc-modified-id=\"Acquire-a-bikeshare-inventory-snapshot-of-each-station-to-see-how-many-bikes-are-available-at-the-beginning-of-the-date-and-the-end-of-the-date-1.3.9.1\"><span class=\"toc-item-num\">1.3.9.1&nbsp;&nbsp;</span>Acquire a bikeshare inventory snapshot of each station to see how many bikes are available at the beginning of the date and the end of the date</a></span></li><li><span><a href=\"#Acqauire-a-bikeshare-trip-transaction-table-with-following-fields:\" data-toc-modified-id=\"Acqauire-a-bikeshare-trip-transaction-table-with-following-fields:-1.3.9.2\"><span class=\"toc-item-num\">1.3.9.2&nbsp;&nbsp;</span>Acqauire a bikeshare trip transaction table with following fields:</a></span></li><li><span><a href=\"#Write-the-query-to-join-the-bikeshare_trip_snapshot-table-and-'bikeshare_trip_transaction'-table\" data-toc-modified-id=\"Write-the-query-to-join-the-bikeshare_trip_snapshot-table-and-'bikeshare_trip_transaction'-table-1.3.9.3\"><span class=\"toc-item-num\">1.3.9.3&nbsp;&nbsp;</span>Write the query to join the bikeshare_trip_snapshot table and 'bikeshare_trip_transaction' table</a></span></li></ul></li></ul></li></ul></li></ul></div>"
   ]
  },
  {
   "cell_type": "markdown",
   "metadata": {},
   "source": [
    "# San Francisco Bike Sharing Analysis"
   ]
  },
  {
   "cell_type": "markdown",
   "metadata": {},
   "source": [
    "![bike_share_station](https://user-images.githubusercontent.com/32689388/41992685-0bb52a3a-79fe-11e8-96d4-f8389c80c4d0.jpg)"
   ]
  },
  {
   "cell_type": "markdown",
   "metadata": {},
   "source": [
    "## Introduction"
   ]
  },
  {
   "cell_type": "markdown",
   "metadata": {},
   "source": [
    "This project is to use SQL from Google BigQuery public San Francisco bike sharing data to understand the business activities. Therefore, instead of loading data once and using python to analyze the data, I used more SQL to acqurie the required data from scratch. In order to visualize the result, I used Python visualization package seaborn and matplotlib to draw the graph."
   ]
  },
  {
   "cell_type": "markdown",
   "metadata": {},
   "source": [
    "## Data Dictionary\n",
    "There are three dataset in this project. They are: \n",
    "* Bikeshare_trips\n",
    "* Bikeshare_status\n",
    "* Bikeshare_stations\n",
    "\n",
    "To understand each dataset, let's walk through the following dictionary for each dataset."
   ]
  },
  {
   "cell_type": "markdown",
   "metadata": {},
   "source": [
    "### Bikeshare_trips"
   ]
  },
  {
   "cell_type": "markdown",
   "metadata": {},
   "source": [
    "![screen shot 2018-06-27 at 11 52 40 am](https://user-images.githubusercontent.com/32689388/41993542-ae9e815e-7a00-11e8-825a-253e62d4ab91.png)"
   ]
  },
  {
   "cell_type": "markdown",
   "metadata": {},
   "source": [
    "### Bikeshare_status"
   ]
  },
  {
   "cell_type": "markdown",
   "metadata": {},
   "source": [
    "![screen shot 2018-06-27 at 11 52 35 am](https://user-images.githubusercontent.com/32689388/41993574-c84a2234-7a00-11e8-91ec-157b9a1545ff.png)\n"
   ]
  },
  {
   "cell_type": "markdown",
   "metadata": {},
   "source": [
    "### Bikeshare_stations"
   ]
  },
  {
   "cell_type": "markdown",
   "metadata": {},
   "source": [
    "![screen shot 2018-06-27 at 11 52 26 am](https://user-images.githubusercontent.com/32689388/41993618-e311bf96-7a00-11e8-8872-bdba40f0ee53.png)\n"
   ]
  },
  {
   "cell_type": "markdown",
   "metadata": {},
   "source": [
    "## Data Acquisition and Analysis"
   ]
  },
  {
   "cell_type": "markdown",
   "metadata": {},
   "source": [
    "### Loading Libraries"
   ]
  },
  {
   "cell_type": "code",
   "execution_count": 202,
   "metadata": {},
   "outputs": [],
   "source": [
    "import numpy as np\n",
    "import pandas as pd\n",
    "import matplotlib.pyplot as plt\n",
    "from pandas.io import gbq\n",
    "import seaborn as sns\n",
    "import math\n",
    "from mpl_toolkits.basemap import Basemap\n",
    "\n",
    "%matplotlib inline"
   ]
  },
  {
   "cell_type": "code",
   "execution_count": 2,
   "metadata": {
    "collapsed": true
   },
   "outputs": [],
   "source": [
    "project_id = 'sublime-oxygen-181503'"
   ]
  },
  {
   "cell_type": "code",
   "execution_count": 53,
   "metadata": {
    "collapsed": true
   },
   "outputs": [],
   "source": [
    "# check plt graph style\n",
    "# plt.style.available \n",
    "plt.style.use('seaborn-white')"
   ]
  },
  {
   "cell_type": "markdown",
   "metadata": {},
   "source": [
    "### Does bike shares show downward trending in 2016?"
   ]
  },
  {
   "cell_type": "code",
   "execution_count": 122,
   "metadata": {
    "collapsed": true
   },
   "outputs": [],
   "source": [
    "querry = \"\"\"\n",
    "\n",
    "SELECT\n",
    "    CONCAT('0', CAST(EXTRACT(MONTH FROM start_date) AS STRING), '/',CAST(EXTRACT(YEAR FROM start_date) AS STRING)) AS period,\n",
    "    ROUND(AVG(duration_sec/60), 2) AS avg_duration_min,\n",
    "    COUNT(*) AS monthly_trips\n",
    "FROM\n",
    "    `bigquery-public-data.san_francisco.bikeshare_trips`\n",
    "WHERE \n",
    "    EXTRACT(YEAR FROM start_date) = 2016\n",
    "GROUP BY \n",
    "    1\n",
    "ORDER BY \n",
    "    1\n",
    "\n",
    "\"\"\""
   ]
  },
  {
   "cell_type": "code",
   "execution_count": 123,
   "metadata": {},
   "outputs": [
    {
     "data": {
      "text/html": [
       "<div>\n",
       "<style>\n",
       "    .dataframe thead tr:only-child th {\n",
       "        text-align: right;\n",
       "    }\n",
       "\n",
       "    .dataframe thead th {\n",
       "        text-align: left;\n",
       "    }\n",
       "\n",
       "    .dataframe tbody tr th {\n",
       "        vertical-align: top;\n",
       "    }\n",
       "</style>\n",
       "<table border=\"1\" class=\"dataframe\">\n",
       "  <thead>\n",
       "    <tr style=\"text-align: right;\">\n",
       "      <th></th>\n",
       "      <th>period</th>\n",
       "      <th>avg_duration_min</th>\n",
       "      <th>monthly_trips</th>\n",
       "    </tr>\n",
       "  </thead>\n",
       "  <tbody>\n",
       "    <tr>\n",
       "      <th>0</th>\n",
       "      <td>01/2016</td>\n",
       "      <td>12.73</td>\n",
       "      <td>19520</td>\n",
       "    </tr>\n",
       "    <tr>\n",
       "      <th>1</th>\n",
       "      <td>02/2016</td>\n",
       "      <td>13.79</td>\n",
       "      <td>24560</td>\n",
       "    </tr>\n",
       "    <tr>\n",
       "      <th>2</th>\n",
       "      <td>03/2016</td>\n",
       "      <td>13.10</td>\n",
       "      <td>25558</td>\n",
       "    </tr>\n",
       "    <tr>\n",
       "      <th>3</th>\n",
       "      <td>04/2016</td>\n",
       "      <td>13.92</td>\n",
       "      <td>26612</td>\n",
       "    </tr>\n",
       "    <tr>\n",
       "      <th>4</th>\n",
       "      <td>05/2016</td>\n",
       "      <td>13.77</td>\n",
       "      <td>28322</td>\n",
       "    </tr>\n",
       "    <tr>\n",
       "      <th>5</th>\n",
       "      <td>06/2016</td>\n",
       "      <td>13.92</td>\n",
       "      <td>29783</td>\n",
       "    </tr>\n",
       "    <tr>\n",
       "      <th>6</th>\n",
       "      <td>07/2016</td>\n",
       "      <td>15.44</td>\n",
       "      <td>25784</td>\n",
       "    </tr>\n",
       "    <tr>\n",
       "      <th>7</th>\n",
       "      <td>08/2016</td>\n",
       "      <td>13.61</td>\n",
       "      <td>30355</td>\n",
       "    </tr>\n",
       "  </tbody>\n",
       "</table>\n",
       "</div>"
      ],
      "text/plain": [
       "    period  avg_duration_min  monthly_trips\n",
       "0  01/2016             12.73          19520\n",
       "1  02/2016             13.79          24560\n",
       "2  03/2016             13.10          25558\n",
       "3  04/2016             13.92          26612\n",
       "4  05/2016             13.77          28322\n",
       "5  06/2016             13.92          29783\n",
       "6  07/2016             15.44          25784\n",
       "7  08/2016             13.61          30355"
      ]
     },
     "execution_count": 123,
     "metadata": {},
     "output_type": "execute_result"
    }
   ],
   "source": [
    "df1 = gbq.read_gbq(querry, project_id = project_id, dialect = \"standard\")\n",
    "df1"
   ]
  },
  {
   "cell_type": "code",
   "execution_count": 124,
   "metadata": {},
   "outputs": [
    {
     "data": {
      "text/plain": [
       "<matplotlib.legend.Legend at 0x1a33b020f0>"
      ]
     },
     "execution_count": 124,
     "metadata": {},
     "output_type": "execute_result"
    },
    {
     "data": {
      "image/png": "[encoded data removed]",
      "text/plain": [
       "<matplotlib.figure.Figure at 0x1a1cf6cc50>"
      ]
     },
     "metadata": {},
     "output_type": "display_data"
    }
   ],
   "source": [
    "x = range(len(df1['period']))\n",
    "plt.plot(x, df1['avg_duration_min'], label = 'average duration minutes')\n",
    "# yearly_trips is much larger than avg_duration_min\n",
    "plt.plot(x, df1['monthly_trips'].apply(lambda x: math.log(x)), label = 'log(monthly trips)') \n",
    "plt.xticks(x, df1['period'])\n",
    "\n",
    "plt.title('Bike Sharing monthly average duration minutes in 2016')\n",
    "plt.xlabel('Period', fontsize = 12)\n",
    "plt.ylabel('Minutes/log(monthly trips)', fontsize = 12)\n",
    "plt.legend(loc = 'upper left')"
   ]
  },
  {
   "cell_type": "markdown",
   "metadata": {},
   "source": [
    "**The monthly trips of bike sharing is generally going up from 01/2016 to 08/2016, except 07/2017. However, the average duration minute functuates in each month, but the trend is going up.**\n"
   ]
  },
  {
   "cell_type": "markdown",
   "metadata": {},
   "source": [
    "### How is subscriber monthly usage comparing to customer?\n"
   ]
  },
  {
   "cell_type": "code",
   "execution_count": 133,
   "metadata": {
    "collapsed": true
   },
   "outputs": [],
   "source": [
    "querry = \"\"\"\n",
    "\n",
    "SELECT\n",
    "    CONCAT(CAST(EXTRACT(YEAR FROM start_date) AS STRING),'/', CAST(EXTRACT(MONTH FROM start_date) AS STRING)) AS period,\n",
    "    subscriber_type, \n",
    "    ROUND(AVG(duration_sec/60), 2) AS avg_duration_min,\n",
    "    COUNT(*) AS monthly_trips\n",
    "FROM \n",
    "    `bigquery-public-data.san_francisco.bikeshare_trips`\n",
    "WHERE \n",
    "    subscriber_type IN ('Customer', 'Subscriber')\n",
    "GROUP BY \n",
    "    1,2\n",
    "ORDER BY \n",
    "    1,2\n",
    "\n",
    "\"\"\""
   ]
  },
  {
   "cell_type": "code",
   "execution_count": 134,
   "metadata": {},
   "outputs": [
    {
     "data": {
      "text/html": [
       "<div>\n",
       "<style>\n",
       "    .dataframe thead tr:only-child th {\n",
       "        text-align: right;\n",
       "    }\n",
       "\n",
       "    .dataframe thead th {\n",
       "        text-align: left;\n",
       "    }\n",
       "\n",
       "    .dataframe tbody tr th {\n",
       "        vertical-align: top;\n",
       "    }\n",
       "</style>\n",
       "<table border=\"1\" class=\"dataframe\">\n",
       "  <thead>\n",
       "    <tr style=\"text-align: right;\">\n",
       "      <th></th>\n",
       "      <th>period</th>\n",
       "      <th>subscriber_type</th>\n",
       "      <th>avg_duration_min</th>\n",
       "      <th>monthly_trips</th>\n",
       "    </tr>\n",
       "  </thead>\n",
       "  <tbody>\n",
       "    <tr>\n",
       "      <th>0</th>\n",
       "      <td>2013/10</td>\n",
       "      <td>Customer</td>\n",
       "      <td>57.65</td>\n",
       "      <td>6126</td>\n",
       "    </tr>\n",
       "    <tr>\n",
       "      <th>1</th>\n",
       "      <td>2013/10</td>\n",
       "      <td>Subscriber</td>\n",
       "      <td>9.79</td>\n",
       "      <td>22979</td>\n",
       "    </tr>\n",
       "    <tr>\n",
       "      <th>2</th>\n",
       "      <td>2013/11</td>\n",
       "      <td>Customer</td>\n",
       "      <td>68.91</td>\n",
       "      <td>4489</td>\n",
       "    </tr>\n",
       "    <tr>\n",
       "      <th>3</th>\n",
       "      <td>2013/11</td>\n",
       "      <td>Subscriber</td>\n",
       "      <td>9.71</td>\n",
       "      <td>19730</td>\n",
       "    </tr>\n",
       "    <tr>\n",
       "      <th>4</th>\n",
       "      <td>2013/12</td>\n",
       "      <td>Customer</td>\n",
       "      <td>64.23</td>\n",
       "      <td>3235</td>\n",
       "    </tr>\n",
       "  </tbody>\n",
       "</table>\n",
       "</div>"
      ],
      "text/plain": [
       "    period subscriber_type  avg_duration_min  monthly_trips\n",
       "0  2013/10        Customer             57.65           6126\n",
       "1  2013/10      Subscriber              9.79          22979\n",
       "2  2013/11        Customer             68.91           4489\n",
       "3  2013/11      Subscriber              9.71          19730\n",
       "4  2013/12        Customer             64.23           3235"
      ]
     },
     "execution_count": 134,
     "metadata": {},
     "output_type": "execute_result"
    }
   ],
   "source": [
    "df2 = gbq.read_gbq(querry, project_id = project_id, dialect = \"standard\")\n",
    "df2.head()"
   ]
  },
  {
   "cell_type": "code",
   "execution_count": 31,
   "metadata": {
    "collapsed": true
   },
   "outputs": [],
   "source": [
    "customer_df2 = df2[df2['subscriber_type'] == 'Customer']\n",
    "subscriber_df2 = df2[df2['subscriber_type'] == 'Subscriber']"
   ]
  },
  {
   "cell_type": "code",
   "execution_count": 136,
   "metadata": {
    "scrolled": true
   },
   "outputs": [
    {
     "data": {
      "image/png": "[encoded data removed]",
      "text/plain": [
       "<matplotlib.figure.Figure at 0x1a2f21f080>"
      ]
     },
     "metadata": {},
     "output_type": "display_data"
    }
   ],
   "source": [
    "fig = plt.figure(figsize = (12,5))\n",
    "\n",
    "x1 = range(len(customer_df2['period']))\n",
    "plt.plot(x1, customer_df2['avg_duration_min'], label = 'Customer')\n",
    "plt.xticks(x1, customer_df2['period'])\n",
    "\n",
    "x2 = range(len(subscriber_df2['period']))\n",
    "plt.plot(x2, subscriber_df2['avg_duration_min'], label = 'Subscriber')\n",
    "plt.xticks(x2, subscriber_df2['period'])\n",
    "\n",
    "plt.title('Bike Sharing monthly average duration minutes')\n",
    "plt.xlabel('Month', fontsize = 10)\n",
    "plt.ylabel('Minutes', fontsize = 10)\n",
    "plt.xticks(rotation='vertical')\n",
    "plt.legend(loc = 'upper left')\n",
    "plt.show()"
   ]
  },
  {
   "cell_type": "code",
   "execution_count": 137,
   "metadata": {},
   "outputs": [
    {
     "data": {
      "image/png": "[encoded data removed]",
      "text/plain": [
       "<matplotlib.figure.Figure at 0x1a21d2e9e8>"
      ]
     },
     "metadata": {},
     "output_type": "display_data"
    }
   ],
   "source": [
    "fig = plt.figure(figsize = (12,5))\n",
    "\n",
    "x1 = range(len(customer_df2['period']))\n",
    "plt.plot(x1, customer_df2['monthly_trips'], label = 'Customer')\n",
    "plt.xticks(x1, customer_df2['period'])\n",
    "\n",
    "x2 = range(len(subscriber_df2['period']))\n",
    "plt.plot(x2, subscriber_df2['monthly_trips'], label = 'Subscriber')\n",
    "plt.xticks(x2, subscriber_df2['period'])\n",
    "\n",
    "plt.title('Bike Sharing monthly trips')\n",
    "plt.xlabel('Month', fontsize = 10)\n",
    "plt.ylabel('Minutes', fontsize = 10)\n",
    "plt.xticks(rotation='vertical')\n",
    "plt.legend(loc = 'upper left')\n",
    "plt.show()"
   ]
  },
  {
   "cell_type": "markdown",
   "metadata": {},
   "source": [
    "** From the two line graphes above, we can see that subscribers shows more monthly trips than customers, while customers has longer averager usage time than subscribers.**"
   ]
  },
  {
   "cell_type": "markdown",
   "metadata": {},
   "source": [
    "### How does seasonality affect bike shares? \n",
    "\n",
    "We define: \n",
    "* 12, 1, 2 as Winter season\n",
    "* 3, 4, 5 as Spring season\n",
    "* 6, 7, 8 as Summer season\n",
    "* 9, 10, 11 as Fall season"
   ]
  },
  {
   "cell_type": "code",
   "execution_count": 139,
   "metadata": {
    "collapsed": true
   },
   "outputs": [],
   "source": [
    "# Since the start_date from the dataset is from 2013-08 to 2016-08, \n",
    "# I just chose the time period from 2013-08 to 2016-07\n",
    "querry = \"\"\"\n",
    "\n",
    "SELECT\n",
    "    Case WHEN EXTRACT(month from start_date) IN (12,1,2) THEN 'Winter'\n",
    "         WHEN EXTRACT(month from start_date) IN (3,4,5) THEN 'Spring'\n",
    "         WHEN EXTRACT(month from start_date) IN (6,7,8) THEN 'Summer'\n",
    "         WHEN EXTRACT(month from start_date) IN (9,10,11) THEN 'Fall'\n",
    "         ELSE NULL END AS season,\n",
    "    COUNT(*) AS seasonal_trips\n",
    "FROM \n",
    "    `bigquery-public-data.san_francisco.bikeshare_trips`\n",
    "WHERE \n",
    "    subscriber_type IN ('Customer', 'Subscriber')\n",
    "    AND CAST (start_date AS DATE) <'2015-08-01'\n",
    "GROUP BY 1\n",
    "ORDER BY 2 DESC\n",
    "\n",
    "\"\"\""
   ]
  },
  {
   "cell_type": "code",
   "execution_count": 140,
   "metadata": {},
   "outputs": [
    {
     "data": {
      "text/html": [
       "<div>\n",
       "<style>\n",
       "    .dataframe thead tr:only-child th {\n",
       "        text-align: right;\n",
       "    }\n",
       "\n",
       "    .dataframe thead th {\n",
       "        text-align: left;\n",
       "    }\n",
       "\n",
       "    .dataframe tbody tr th {\n",
       "        vertical-align: top;\n",
       "    }\n",
       "</style>\n",
       "<table border=\"1\" class=\"dataframe\">\n",
       "  <thead>\n",
       "    <tr style=\"text-align: right;\">\n",
       "      <th></th>\n",
       "      <th>season</th>\n",
       "      <th>seasonal_trips</th>\n",
       "    </tr>\n",
       "  </thead>\n",
       "  <tbody>\n",
       "    <tr>\n",
       "      <th>0</th>\n",
       "      <td>Spring</td>\n",
       "      <td>171845</td>\n",
       "    </tr>\n",
       "    <tr>\n",
       "      <th>1</th>\n",
       "      <td>Fall</td>\n",
       "      <td>169985</td>\n",
       "    </tr>\n",
       "    <tr>\n",
       "      <th>2</th>\n",
       "      <td>Summer</td>\n",
       "      <td>158961</td>\n",
       "    </tr>\n",
       "    <tr>\n",
       "      <th>3</th>\n",
       "      <td>Winter</td>\n",
       "      <td>137264</td>\n",
       "    </tr>\n",
       "  </tbody>\n",
       "</table>\n",
       "</div>"
      ],
      "text/plain": [
       "   season  seasonal_trips\n",
       "0  Spring          171845\n",
       "1    Fall          169985\n",
       "2  Summer          158961\n",
       "3  Winter          137264"
      ]
     },
     "execution_count": 140,
     "metadata": {},
     "output_type": "execute_result"
    }
   ],
   "source": [
    "df3 = gbq.read_gbq(querry, project_id = project_id, dialect = \"standard\")\n",
    "df3"
   ]
  },
  {
   "cell_type": "code",
   "execution_count": 141,
   "metadata": {},
   "outputs": [
    {
     "data": {
      "text/plain": [
       "<matplotlib.text.Text at 0x1a32501f28>"
      ]
     },
     "execution_count": 141,
     "metadata": {},
     "output_type": "execute_result"
    },
    {
     "data": {
      "image/png": "[encoded data removed]",
      "text/plain": [
       "<matplotlib.figure.Figure at 0x1a1e987cf8>"
      ]
     },
     "metadata": {},
     "output_type": "display_data"
    }
   ],
   "source": [
    "sns.barplot(x = 'season', y ='seasonal_trips', data = df3)\n",
    "plt.title('Trips Seasonality')"
   ]
  },
  {
   "cell_type": "markdown",
   "metadata": {},
   "source": [
    "**From the barplot above, we can see there is a seasonality in different seasons.**"
   ]
  },
  {
   "cell_type": "markdown",
   "metadata": {},
   "source": [
    "### What is avg lifespan of the bikes in this dataset? "
   ]
  },
  {
   "cell_type": "markdown",
   "metadata": {},
   "source": [
    "We define Lifespan as numbers of days being used in ride shares in this problem"
   ]
  },
  {
   "cell_type": "code",
   "execution_count": 84,
   "metadata": {
    "collapsed": true
   },
   "outputs": [],
   "source": [
    "querry = \"\"\"\n",
    "\n",
    "SELECT \n",
    "    round(SUM(lifespan)/ COUNT(bike_number),2) AS ave_lifespan\n",
    "FROM(\n",
    "    SELECT \n",
    "        bike_number, ROUND(SUM(duration_sec/3600/24), 2) AS lifespan\n",
    "    FROM \n",
    "        `bigquery-public-data.san_francisco.bikeshare_trips`\n",
    "    GROUP BY 1\n",
    "    ORDER BY 2\n",
    "    )\n",
    "\n",
    "\"\"\""
   ]
  },
  {
   "cell_type": "code",
   "execution_count": 85,
   "metadata": {},
   "outputs": [
    {
     "data": {
      "text/html": [
       "<div>\n",
       "<style>\n",
       "    .dataframe thead tr:only-child th {\n",
       "        text-align: right;\n",
       "    }\n",
       "\n",
       "    .dataframe thead th {\n",
       "        text-align: left;\n",
       "    }\n",
       "\n",
       "    .dataframe tbody tr th {\n",
       "        vertical-align: top;\n",
       "    }\n",
       "</style>\n",
       "<table border=\"1\" class=\"dataframe\">\n",
       "  <thead>\n",
       "    <tr style=\"text-align: right;\">\n",
       "      <th></th>\n",
       "      <th>ave_lifespan</th>\n",
       "    </tr>\n",
       "  </thead>\n",
       "  <tbody>\n",
       "    <tr>\n",
       "      <th>0</th>\n",
       "      <td>16.57</td>\n",
       "    </tr>\n",
       "  </tbody>\n",
       "</table>\n",
       "</div>"
      ],
      "text/plain": [
       "   ave_lifespan\n",
       "0         16.57"
      ]
     },
     "execution_count": 85,
     "metadata": {},
     "output_type": "execute_result"
    }
   ],
   "source": [
    "df4 = gbq.read_gbq(querry, project_id = project_id, dialect = \"standard\")\n",
    "df4"
   ]
  },
  {
   "cell_type": "markdown",
   "metadata": {},
   "source": [
    "**The Lifespan is 16.57 days**"
   ]
  },
  {
   "cell_type": "markdown",
   "metadata": {},
   "source": [
    "###  What are the top 3 start-end station pairings each year? "
   ]
  },
  {
   "cell_type": "code",
   "execution_count": 71,
   "metadata": {
    "collapsed": true
   },
   "outputs": [],
   "source": [
    "querry = \"\"\"\n",
    "\n",
    "WITH \n",
    "Yearly_trip AS(\n",
    "SELECT \n",
    "    start_station_name, end_station_name, \n",
    "    EXTRACT (year FROM start_date) AS year,\n",
    "    count(*)AS ttl\n",
    "FROM \n",
    "    `bigquery-public-data.san_francisco.bikeshare_trips`\n",
    "GROUP BY \n",
    "    1,2\n",
    "ORDER BY\n",
    "        3,4\n",
    ")\n",
    "\n",
    "SELECT \n",
    "    *\n",
    "FROM(\n",
    "    SELECT \n",
    "        year, start_station_name, end_station_name,\n",
    "        RANK() OVER (partition by year order by ttl DESC) AS ranking\n",
    "    FROM Yearly_trip\n",
    "    )\n",
    "WHERE \n",
    "    ranking IN (1, 2, 3);\n",
    "\"\"\""
   ]
  },
  {
   "cell_type": "code",
   "execution_count": 72,
   "metadata": {},
   "outputs": [
    {
     "data": {
      "text/html": [
       "<div>\n",
       "<style>\n",
       "    .dataframe thead tr:only-child th {\n",
       "        text-align: right;\n",
       "    }\n",
       "\n",
       "    .dataframe thead th {\n",
       "        text-align: left;\n",
       "    }\n",
       "\n",
       "    .dataframe tbody tr th {\n",
       "        vertical-align: top;\n",
       "    }\n",
       "</style>\n",
       "<table border=\"1\" class=\"dataframe\">\n",
       "  <thead>\n",
       "    <tr style=\"text-align: right;\">\n",
       "      <th></th>\n",
       "      <th>year</th>\n",
       "      <th>start_station_name</th>\n",
       "      <th>end_station_name</th>\n",
       "      <th>ranking</th>\n",
       "    </tr>\n",
       "  </thead>\n",
       "  <tbody>\n",
       "    <tr>\n",
       "      <th>0</th>\n",
       "      <td>2013</td>\n",
       "      <td>Harry Bridges Plaza (Ferry Building)</td>\n",
       "      <td>Embarcadero at Sansome</td>\n",
       "      <td>1</td>\n",
       "    </tr>\n",
       "    <tr>\n",
       "      <th>1</th>\n",
       "      <td>2013</td>\n",
       "      <td>Townsend at 7th</td>\n",
       "      <td>San Francisco Caltrain (Townsend at 4th)</td>\n",
       "      <td>2</td>\n",
       "    </tr>\n",
       "    <tr>\n",
       "      <th>2</th>\n",
       "      <td>2013</td>\n",
       "      <td>San Francisco Caltrain 2 (330 Townsend)</td>\n",
       "      <td>Townsend at 7th</td>\n",
       "      <td>3</td>\n",
       "    </tr>\n",
       "    <tr>\n",
       "      <th>3</th>\n",
       "      <td>2014</td>\n",
       "      <td>Townsend at 7th</td>\n",
       "      <td>San Francisco Caltrain (Townsend at 4th)</td>\n",
       "      <td>1</td>\n",
       "    </tr>\n",
       "    <tr>\n",
       "      <th>4</th>\n",
       "      <td>2014</td>\n",
       "      <td>San Francisco Caltrain 2 (330 Townsend)</td>\n",
       "      <td>Townsend at 7th</td>\n",
       "      <td>2</td>\n",
       "    </tr>\n",
       "    <tr>\n",
       "      <th>5</th>\n",
       "      <td>2014</td>\n",
       "      <td>Harry Bridges Plaza (Ferry Building)</td>\n",
       "      <td>Embarcadero at Sansome</td>\n",
       "      <td>3</td>\n",
       "    </tr>\n",
       "    <tr>\n",
       "      <th>6</th>\n",
       "      <td>2015</td>\n",
       "      <td>Townsend at 7th</td>\n",
       "      <td>San Francisco Caltrain 2 (330 Townsend)</td>\n",
       "      <td>1</td>\n",
       "    </tr>\n",
       "    <tr>\n",
       "      <th>7</th>\n",
       "      <td>2015</td>\n",
       "      <td>San Francisco Caltrain 2 (330 Townsend)</td>\n",
       "      <td>Townsend at 7th</td>\n",
       "      <td>2</td>\n",
       "    </tr>\n",
       "    <tr>\n",
       "      <th>8</th>\n",
       "      <td>2015</td>\n",
       "      <td>Harry Bridges Plaza (Ferry Building)</td>\n",
       "      <td>Embarcadero at Sansome</td>\n",
       "      <td>3</td>\n",
       "    </tr>\n",
       "    <tr>\n",
       "      <th>9</th>\n",
       "      <td>2016</td>\n",
       "      <td>Market at 10th</td>\n",
       "      <td>San Francisco Caltrain 2 (330 Townsend)</td>\n",
       "      <td>1</td>\n",
       "    </tr>\n",
       "    <tr>\n",
       "      <th>10</th>\n",
       "      <td>2016</td>\n",
       "      <td>Harry Bridges Plaza (Ferry Building)</td>\n",
       "      <td>Embarcadero at Sansome</td>\n",
       "      <td>2</td>\n",
       "    </tr>\n",
       "    <tr>\n",
       "      <th>11</th>\n",
       "      <td>2016</td>\n",
       "      <td>Townsend at 7th</td>\n",
       "      <td>San Francisco Caltrain 2 (330 Townsend)</td>\n",
       "      <td>3</td>\n",
       "    </tr>\n",
       "  </tbody>\n",
       "</table>\n",
       "</div>"
      ],
      "text/plain": [
       "    year                       start_station_name  \\\n",
       "0   2013     Harry Bridges Plaza (Ferry Building)   \n",
       "1   2013                          Townsend at 7th   \n",
       "2   2013  San Francisco Caltrain 2 (330 Townsend)   \n",
       "3   2014                          Townsend at 7th   \n",
       "4   2014  San Francisco Caltrain 2 (330 Townsend)   \n",
       "5   2014     Harry Bridges Plaza (Ferry Building)   \n",
       "6   2015                          Townsend at 7th   \n",
       "7   2015  San Francisco Caltrain 2 (330 Townsend)   \n",
       "8   2015     Harry Bridges Plaza (Ferry Building)   \n",
       "9   2016                           Market at 10th   \n",
       "10  2016     Harry Bridges Plaza (Ferry Building)   \n",
       "11  2016                          Townsend at 7th   \n",
       "\n",
       "                            end_station_name  ranking  \n",
       "0                     Embarcadero at Sansome        1  \n",
       "1   San Francisco Caltrain (Townsend at 4th)        2  \n",
       "2                            Townsend at 7th        3  \n",
       "3   San Francisco Caltrain (Townsend at 4th)        1  \n",
       "4                            Townsend at 7th        2  \n",
       "5                     Embarcadero at Sansome        3  \n",
       "6    San Francisco Caltrain 2 (330 Townsend)        1  \n",
       "7                            Townsend at 7th        2  \n",
       "8                     Embarcadero at Sansome        3  \n",
       "9    San Francisco Caltrain 2 (330 Townsend)        1  \n",
       "10                    Embarcadero at Sansome        2  \n",
       "11   San Francisco Caltrain 2 (330 Townsend)        3  "
      ]
     },
     "execution_count": 72,
     "metadata": {},
     "output_type": "execute_result"
    }
   ],
   "source": [
    "df5 = gbq.read_gbq(querry, project_id = project_id, dialect = \"standard\")\n",
    "df5"
   ]
  },
  {
   "cell_type": "markdown",
   "metadata": {},
   "source": [
    "### Visualize numbers of bikes available on Sept 1, 2015 on a map view"
   ]
  },
  {
   "cell_type": "code",
   "execution_count": 73,
   "metadata": {
    "collapsed": true
   },
   "outputs": [],
   "source": [
    "querry = \"\"\"\n",
    "\n",
    "SELECT \n",
    "    map.latitude, map.longitude,map. station_id, sum(status.bikes_available) AS num_available_bike\n",
    "FROM \n",
    "    `bigquery-public-data.san_francisco.bikeshare_status` AS status\n",
    "INNER JOIN \n",
    "    `bigquery-public-data.san_francisco.bikeshare_stations`AS map\n",
    "USING \n",
    "    (station_id)\n",
    "WHERE \n",
    "    EXTRACT(DATE FROM status.time)='2015-09-01'\n",
    "GROUP BY \n",
    "    1,2,3\n",
    "\n",
    "\"\"\""
   ]
  },
  {
   "cell_type": "code",
   "execution_count": 75,
   "metadata": {},
   "outputs": [
    {
     "data": {
      "text/html": [
       "<div>\n",
       "<style>\n",
       "    .dataframe thead tr:only-child th {\n",
       "        text-align: right;\n",
       "    }\n",
       "\n",
       "    .dataframe thead th {\n",
       "        text-align: left;\n",
       "    }\n",
       "\n",
       "    .dataframe tbody tr th {\n",
       "        vertical-align: top;\n",
       "    }\n",
       "</style>\n",
       "<table border=\"1\" class=\"dataframe\">\n",
       "  <thead>\n",
       "    <tr style=\"text-align: right;\">\n",
       "      <th></th>\n",
       "      <th>latitude</th>\n",
       "      <th>longitude</th>\n",
       "      <th>station_id</th>\n",
       "      <th>num_available_bike</th>\n",
       "    </tr>\n",
       "  </thead>\n",
       "  <tbody>\n",
       "    <tr>\n",
       "      <th>0</th>\n",
       "      <td>37.786305</td>\n",
       "      <td>-122.404966</td>\n",
       "      <td>76</td>\n",
       "      <td>16473</td>\n",
       "    </tr>\n",
       "    <tr>\n",
       "      <th>1</th>\n",
       "      <td>37.789756</td>\n",
       "      <td>-122.394643</td>\n",
       "      <td>55</td>\n",
       "      <td>11977</td>\n",
       "    </tr>\n",
       "    <tr>\n",
       "      <th>2</th>\n",
       "      <td>37.348742</td>\n",
       "      <td>-121.894715</td>\n",
       "      <td>9</td>\n",
       "      <td>9285</td>\n",
       "    </tr>\n",
       "    <tr>\n",
       "      <th>3</th>\n",
       "      <td>37.394358</td>\n",
       "      <td>-122.076713</td>\n",
       "      <td>28</td>\n",
       "      <td>16045</td>\n",
       "    </tr>\n",
       "    <tr>\n",
       "      <th>4</th>\n",
       "      <td>37.781752</td>\n",
       "      <td>-122.405127</td>\n",
       "      <td>57</td>\n",
       "      <td>8141</td>\n",
       "    </tr>\n",
       "  </tbody>\n",
       "</table>\n",
       "</div>"
      ],
      "text/plain": [
       "    latitude   longitude  station_id  num_available_bike\n",
       "0  37.786305 -122.404966          76               16473\n",
       "1  37.789756 -122.394643          55               11977\n",
       "2  37.348742 -121.894715           9                9285\n",
       "3  37.394358 -122.076713          28               16045\n",
       "4  37.781752 -122.405127          57                8141"
      ]
     },
     "execution_count": 75,
     "metadata": {},
     "output_type": "execute_result"
    }
   ],
   "source": [
    "df6 = gbq.read_gbq(querry, project_id = project_id, dialect = \"standard\")\n",
    "df6.head()"
   ]
  },
  {
   "cell_type": "code",
   "execution_count": 229,
   "metadata": {
    "collapsed": true
   },
   "outputs": [],
   "source": [
    "df6.to_csv('geo-data.csv')"
   ]
  },
  {
   "cell_type": "markdown",
   "metadata": {},
   "source": [
    "Since it is city area, it would be better to show the visualization through Tableau"
   ]
  },
  {
   "cell_type": "markdown",
   "metadata": {},
   "source": [
    "<img width=\"906\" alt=\"screen shot 2018-06-29 at 10 20 53 am\" src=\"https://user-images.githubusercontent.com/32689388/42105754-66f5a616-7b86-11e8-91de-b6fb07171d3f.png\">\n"
   ]
  },
  {
   "cell_type": "markdown",
   "metadata": {},
   "source": [
    "### Is there any station without any activities on a particular day of 2015"
   ]
  },
  {
   "cell_type": "code",
   "execution_count": 145,
   "metadata": {
    "collapsed": true
   },
   "outputs": [],
   "source": [
    "querry = \"\"\"\n",
    "WITH \n",
    "station AS(\n",
    "SELECT \n",
    "    DISTINCT(station_id) AS station, EXTRACT(date FROM time) AS date\n",
    "FROM \n",
    "    `bigquery-public-data.san_francisco.bikeshare_status`\n",
    "WHERE \n",
    "    EXTRACT(year FROM time) = 2015\n",
    "), \n",
    "\n",
    "start_trip AS(\n",
    "SELECT \n",
    "    DISTINCT(start_station_id) AS start_station,\n",
    "    EXTRACT(date FROM start_date) AS date\n",
    "FROM  \n",
    "    `bigquery-public-data.san_francisco.bikeshare_trips`\n",
    "WHERE \n",
    "    EXTRACT(year from start_date) = 2015\n",
    "), \n",
    "\n",
    "end_trip AS(\n",
    "SELECT \n",
    "    DISTINCT(end_station_id) AS end_station,\n",
    "    EXTRACT(date FROM end_date) AS date\n",
    "FROM  \n",
    "    `bigquery-public-data.san_francisco.bikeshare_trips`\n",
    "WHERE \n",
    "    EXTRACT(year FROM end_date) = 2015\n",
    ")\n",
    "\n",
    "SELECT \n",
    "    station.date, station.station\n",
    "FROM station\n",
    "LEFT JOIN\n",
    "    start_trip\n",
    "ON \n",
    "    station.station = start_trip.start_station \n",
    "    AND station.date = start_trip.date\n",
    "LEFT JOIN\n",
    "    end_trip\n",
    "ON \n",
    "    station.station = end_trip.end_station \n",
    "    AND station.date = end_trip.date\n",
    "WHERE \n",
    "    start_trip.start_station IS NULL AND\n",
    "    end_trip.end_station IS NULL\n",
    "ORDER BY \n",
    "    1,2\n",
    "\n",
    "\"\"\""
   ]
  },
  {
   "cell_type": "code",
   "execution_count": 146,
   "metadata": {},
   "outputs": [
    {
     "data": {
      "text/html": [
       "<div>\n",
       "<style>\n",
       "    .dataframe thead tr:only-child th {\n",
       "        text-align: right;\n",
       "    }\n",
       "\n",
       "    .dataframe thead th {\n",
       "        text-align: left;\n",
       "    }\n",
       "\n",
       "    .dataframe tbody tr th {\n",
       "        vertical-align: top;\n",
       "    }\n",
       "</style>\n",
       "<table border=\"1\" class=\"dataframe\">\n",
       "  <thead>\n",
       "    <tr style=\"text-align: right;\">\n",
       "      <th></th>\n",
       "      <th>date</th>\n",
       "      <th>station</th>\n",
       "    </tr>\n",
       "  </thead>\n",
       "  <tbody>\n",
       "    <tr>\n",
       "      <th>0</th>\n",
       "      <td>2015-01-01</td>\n",
       "      <td>4</td>\n",
       "    </tr>\n",
       "    <tr>\n",
       "      <th>1</th>\n",
       "      <td>2015-01-01</td>\n",
       "      <td>5</td>\n",
       "    </tr>\n",
       "    <tr>\n",
       "      <th>2</th>\n",
       "      <td>2015-01-01</td>\n",
       "      <td>8</td>\n",
       "    </tr>\n",
       "    <tr>\n",
       "      <th>3</th>\n",
       "      <td>2015-01-01</td>\n",
       "      <td>9</td>\n",
       "    </tr>\n",
       "    <tr>\n",
       "      <th>4</th>\n",
       "      <td>2015-01-01</td>\n",
       "      <td>10</td>\n",
       "    </tr>\n",
       "  </tbody>\n",
       "</table>\n",
       "</div>"
      ],
      "text/plain": [
       "         date  station\n",
       "0  2015-01-01        4\n",
       "1  2015-01-01        5\n",
       "2  2015-01-01        8\n",
       "3  2015-01-01        9\n",
       "4  2015-01-01       10"
      ]
     },
     "execution_count": 146,
     "metadata": {},
     "output_type": "execute_result"
    }
   ],
   "source": [
    "df7 = gbq.read_gbq(querry, project_id = project_id, dialect = \"standard\")\n",
    "df7.head()"
   ]
  },
  {
   "cell_type": "code",
   "execution_count": 147,
   "metadata": {},
   "outputs": [
    {
     "name": "stdout",
     "output_type": "stream",
     "text": [
      "<class 'pandas.core.frame.DataFrame'>\n",
      "RangeIndex: 2974 entries, 0 to 2973\n",
      "Data columns (total 2 columns):\n",
      "date       2974 non-null object\n",
      "station    2974 non-null int64\n",
      "dtypes: int64(1), object(1)\n",
      "memory usage: 46.5+ KB\n"
     ]
    }
   ],
   "source": [
    "df7.info()"
   ]
  },
  {
   "cell_type": "markdown",
   "metadata": {},
   "source": [
    "**I am also wondering the top 10 inactive dates and top 10 inactive stations**"
   ]
  },
  {
   "cell_type": "markdown",
   "metadata": {},
   "source": [
    "#### Top 10 inactive dates"
   ]
  },
  {
   "cell_type": "code",
   "execution_count": 190,
   "metadata": {},
   "outputs": [
    {
     "data": {
      "text/html": [
       "<div>\n",
       "<style>\n",
       "    .dataframe thead tr:only-child th {\n",
       "        text-align: right;\n",
       "    }\n",
       "\n",
       "    .dataframe thead th {\n",
       "        text-align: left;\n",
       "    }\n",
       "\n",
       "    .dataframe tbody tr th {\n",
       "        vertical-align: top;\n",
       "    }\n",
       "</style>\n",
       "<table border=\"1\" class=\"dataframe\">\n",
       "  <thead>\n",
       "    <tr style=\"text-align: right;\">\n",
       "      <th></th>\n",
       "      <th>date</th>\n",
       "      <th>station</th>\n",
       "    </tr>\n",
       "  </thead>\n",
       "  <tbody>\n",
       "    <tr>\n",
       "      <th>0</th>\n",
       "      <td>2015-12-13</td>\n",
       "      <td>36</td>\n",
       "    </tr>\n",
       "    <tr>\n",
       "      <th>1</th>\n",
       "      <td>2015-12-20</td>\n",
       "      <td>36</td>\n",
       "    </tr>\n",
       "    <tr>\n",
       "      <th>2</th>\n",
       "      <td>2015-12-24</td>\n",
       "      <td>34</td>\n",
       "    </tr>\n",
       "    <tr>\n",
       "      <th>3</th>\n",
       "      <td>2015-12-25</td>\n",
       "      <td>33</td>\n",
       "    </tr>\n",
       "    <tr>\n",
       "      <th>4</th>\n",
       "      <td>2015-12-27</td>\n",
       "      <td>29</td>\n",
       "    </tr>\n",
       "    <tr>\n",
       "      <th>5</th>\n",
       "      <td>2015-11-26</td>\n",
       "      <td>29</td>\n",
       "    </tr>\n",
       "    <tr>\n",
       "      <th>6</th>\n",
       "      <td>2015-02-08</td>\n",
       "      <td>27</td>\n",
       "    </tr>\n",
       "    <tr>\n",
       "      <th>7</th>\n",
       "      <td>2015-12-19</td>\n",
       "      <td>27</td>\n",
       "    </tr>\n",
       "    <tr>\n",
       "      <th>8</th>\n",
       "      <td>2015-11-29</td>\n",
       "      <td>26</td>\n",
       "    </tr>\n",
       "    <tr>\n",
       "      <th>9</th>\n",
       "      <td>2015-11-15</td>\n",
       "      <td>26</td>\n",
       "    </tr>\n",
       "  </tbody>\n",
       "</table>\n",
       "</div>"
      ],
      "text/plain": [
       "         date  station\n",
       "0  2015-12-13       36\n",
       "1  2015-12-20       36\n",
       "2  2015-12-24       34\n",
       "3  2015-12-25       33\n",
       "4  2015-12-27       29\n",
       "5  2015-11-26       29\n",
       "6  2015-02-08       27\n",
       "7  2015-12-19       27\n",
       "8  2015-11-29       26\n",
       "9  2015-11-15       26"
      ]
     },
     "execution_count": 190,
     "metadata": {},
     "output_type": "execute_result"
    }
   ],
   "source": [
    "inactive_date = df7.groupby(['date']).count().sort_values(by = 'station', ascending =False).head(10).reset_index()\n",
    "inactive_date"
   ]
  },
  {
   "cell_type": "code",
   "execution_count": 194,
   "metadata": {},
   "outputs": [
    {
     "data": {
      "text/plain": [
       "<matplotlib.axes._subplots.AxesSubplot at 0x1a423bc6a0>"
      ]
     },
     "execution_count": 194,
     "metadata": {},
     "output_type": "execute_result"
    },
    {
     "data": {
      "image/png": "[encoded data removed]",
      "text/plain": [
       "<matplotlib.figure.Figure at 0x1a423bc7f0>"
      ]
     },
     "metadata": {},
     "output_type": "display_data"
    }
   ],
   "source": [
    "plt.figure(figsize = (12, 5))\n",
    "plt.title('Top 10 inactive dates')\n",
    "sns.barplot(x= 'date', y = 'station', data = inactive_date, \n",
    "            order = inactive_date['date'])"
   ]
  },
  {
   "cell_type": "markdown",
   "metadata": {},
   "source": [
    "#### Top 10 inactive stations"
   ]
  },
  {
   "cell_type": "code",
   "execution_count": 169,
   "metadata": {},
   "outputs": [],
   "source": [
    "inactive_station = df7.groupby(['station']).count().sort_values(by = 'date', ascending =False).head(10)\n",
    "inactive_station = inactive_station.reset_index()"
   ]
  },
  {
   "cell_type": "code",
   "execution_count": 184,
   "metadata": {},
   "outputs": [
    {
     "data": {
      "text/html": [
       "<div>\n",
       "<style>\n",
       "    .dataframe thead tr:only-child th {\n",
       "        text-align: right;\n",
       "    }\n",
       "\n",
       "    .dataframe thead th {\n",
       "        text-align: left;\n",
       "    }\n",
       "\n",
       "    .dataframe tbody tr th {\n",
       "        vertical-align: top;\n",
       "    }\n",
       "</style>\n",
       "<table border=\"1\" class=\"dataframe\">\n",
       "  <thead>\n",
       "    <tr style=\"text-align: right;\">\n",
       "      <th></th>\n",
       "      <th>station</th>\n",
       "      <th>counts</th>\n",
       "    </tr>\n",
       "  </thead>\n",
       "  <tbody>\n",
       "    <tr>\n",
       "      <th>0</th>\n",
       "      <td>21</td>\n",
       "      <td>269</td>\n",
       "    </tr>\n",
       "    <tr>\n",
       "      <th>1</th>\n",
       "      <td>24</td>\n",
       "      <td>256</td>\n",
       "    </tr>\n",
       "    <tr>\n",
       "      <th>2</th>\n",
       "      <td>23</td>\n",
       "      <td>216</td>\n",
       "    </tr>\n",
       "    <tr>\n",
       "      <th>3</th>\n",
       "      <td>26</td>\n",
       "      <td>166</td>\n",
       "    </tr>\n",
       "    <tr>\n",
       "      <th>4</th>\n",
       "      <td>83</td>\n",
       "      <td>157</td>\n",
       "    </tr>\n",
       "    <tr>\n",
       "      <th>5</th>\n",
       "      <td>80</td>\n",
       "      <td>121</td>\n",
       "    </tr>\n",
       "    <tr>\n",
       "      <th>6</th>\n",
       "      <td>38</td>\n",
       "      <td>120</td>\n",
       "    </tr>\n",
       "    <tr>\n",
       "      <th>7</th>\n",
       "      <td>25</td>\n",
       "      <td>108</td>\n",
       "    </tr>\n",
       "    <tr>\n",
       "      <th>8</th>\n",
       "      <td>16</td>\n",
       "      <td>104</td>\n",
       "    </tr>\n",
       "    <tr>\n",
       "      <th>9</th>\n",
       "      <td>30</td>\n",
       "      <td>100</td>\n",
       "    </tr>\n",
       "  </tbody>\n",
       "</table>\n",
       "</div>"
      ],
      "text/plain": [
       "   station  counts\n",
       "0       21     269\n",
       "1       24     256\n",
       "2       23     216\n",
       "3       26     166\n",
       "4       83     157\n",
       "5       80     121\n",
       "6       38     120\n",
       "7       25     108\n",
       "8       16     104\n",
       "9       30     100"
      ]
     },
     "execution_count": 184,
     "metadata": {},
     "output_type": "execute_result"
    }
   ],
   "source": [
    "inactive_station.columns = ['station', 'counts']\n",
    "inactive_station"
   ]
  },
  {
   "cell_type": "code",
   "execution_count": 196,
   "metadata": {},
   "outputs": [
    {
     "data": {
      "text/plain": [
       "<matplotlib.axes._subplots.AxesSubplot at 0x1a446e3cf8>"
      ]
     },
     "execution_count": 196,
     "metadata": {},
     "output_type": "execute_result"
    },
    {
     "data": {
      "image/png": "[encoded data removed]",
      "text/plain": [
       "<matplotlib.figure.Figure at 0x1a40128898>"
      ]
     },
     "metadata": {},
     "output_type": "display_data"
    }
   ],
   "source": [
    "plt.figure(figsize = (12, 5))\n",
    "plt.title('Top 10 inactive stations')\n",
    "sns.barplot(x= 'station', y = 'counts', data = inactive_station, \n",
    "            order = inactive_station['station'])"
   ]
  },
  {
   "cell_type": "markdown",
   "metadata": {},
   "source": [
    "### Using Bikeshare_inventory_snapshot and bikeshare_trip_transaction , validate following assumption that:\n",
    "\n",
    "**BOD_inventory + (txn_count) = EOD_inventory**\n"
   ]
  },
  {
   "cell_type": "markdown",
   "metadata": {},
   "source": [
    "#### Acquire a bikeshare inventory snapshot of each station to see how many bikes are available at the beginning of the date and the end of the date\n",
    "\n",
    "The table should include the following metrics:\n",
    "1.\tstation_id\n",
    "2.\tstation_name\n",
    "3.\tdate\n",
    "4.\tbod_bikes_avail (beginning of the date # of bikes available)\n",
    "5.\teod_bikes_avail (end of the date # of bikes available)\n"
   ]
  },
  {
   "cell_type": "code",
   "execution_count": 199,
   "metadata": {
    "collapsed": true
   },
   "outputs": [],
   "source": [
    "querry = \"\"\"\n",
    "\n",
    "SELECT \n",
    "    t1.station_id, t4.name AS station_name, t1.date,\n",
    "    t2.bikes_available AS bod_bike_avail,\n",
    "    t3.bikes_available AS eod_bike_avail\n",
    "FROM(\n",
    "    SELECT station_id, EXTRACT(date FROM time) AS date,\n",
    "    MIN(time) AS bop, MAX(time) AS eop\n",
    "    FROM `bigquery-public-data.san_francisco.bikeshare_status`\n",
    "    GROUP BY station_id, date\n",
    "    )t1\n",
    "JOIN(\n",
    "     SELECT station_id, time, bikes_available\n",
    "     FROM `bigquery-public-data.san_francisco.bikeshare_status`\n",
    "    )t2\n",
    "ON \n",
    "    t1.station_id = t2.station_id AND t1.bop = t2.time\n",
    "JOIN(\n",
    "     SELECT station_id, time, bikes_available\n",
    "     FROM `bigquery-public-data.san_francisco.bikeshare_status`\n",
    "    )t3\n",
    "ON \n",
    "    t1.station_id = t3.station_id AND t1.eop = t3.time\n",
    "JOIN(\n",
    "     SELECT DISTINCT(station_id), name\n",
    "     FROM `bigquery-public-data.san_francisco.bikeshare_stations`\n",
    "    )t4\n",
    "ON \n",
    "    t1.station_id = t4.station_id\n",
    "ORDER BY \n",
    "    t1.station_id, t1.date\n",
    "\n",
    "\"\"\""
   ]
  },
  {
   "cell_type": "code",
   "execution_count": 200,
   "metadata": {},
   "outputs": [
    {
     "data": {
      "text/html": [
       "<div>\n",
       "<style>\n",
       "    .dataframe thead tr:only-child th {\n",
       "        text-align: right;\n",
       "    }\n",
       "\n",
       "    .dataframe thead th {\n",
       "        text-align: left;\n",
       "    }\n",
       "\n",
       "    .dataframe tbody tr th {\n",
       "        vertical-align: top;\n",
       "    }\n",
       "</style>\n",
       "<table border=\"1\" class=\"dataframe\">\n",
       "  <thead>\n",
       "    <tr style=\"text-align: right;\">\n",
       "      <th></th>\n",
       "      <th>station_id</th>\n",
       "      <th>station_name</th>\n",
       "      <th>date</th>\n",
       "      <th>bod_bike_avail</th>\n",
       "      <th>eod_bike_avail</th>\n",
       "    </tr>\n",
       "  </thead>\n",
       "  <tbody>\n",
       "    <tr>\n",
       "      <th>0</th>\n",
       "      <td>2</td>\n",
       "      <td>San Jose Diridon Caltrain Station</td>\n",
       "      <td>2013-08-29</td>\n",
       "      <td>2</td>\n",
       "      <td>3</td>\n",
       "    </tr>\n",
       "    <tr>\n",
       "      <th>1</th>\n",
       "      <td>2</td>\n",
       "      <td>San Jose Diridon Caltrain Station</td>\n",
       "      <td>2013-08-30</td>\n",
       "      <td>3</td>\n",
       "      <td>11</td>\n",
       "    </tr>\n",
       "    <tr>\n",
       "      <th>2</th>\n",
       "      <td>2</td>\n",
       "      <td>San Jose Diridon Caltrain Station</td>\n",
       "      <td>2013-08-31</td>\n",
       "      <td>11</td>\n",
       "      <td>11</td>\n",
       "    </tr>\n",
       "    <tr>\n",
       "      <th>3</th>\n",
       "      <td>2</td>\n",
       "      <td>San Jose Diridon Caltrain Station</td>\n",
       "      <td>2013-09-01</td>\n",
       "      <td>11</td>\n",
       "      <td>12</td>\n",
       "    </tr>\n",
       "    <tr>\n",
       "      <th>4</th>\n",
       "      <td>2</td>\n",
       "      <td>San Jose Diridon Caltrain Station</td>\n",
       "      <td>2013-09-02</td>\n",
       "      <td>12</td>\n",
       "      <td>10</td>\n",
       "    </tr>\n",
       "  </tbody>\n",
       "</table>\n",
       "</div>"
      ],
      "text/plain": [
       "   station_id                       station_name        date  bod_bike_avail  \\\n",
       "0           2  San Jose Diridon Caltrain Station  2013-08-29               2   \n",
       "1           2  San Jose Diridon Caltrain Station  2013-08-30               3   \n",
       "2           2  San Jose Diridon Caltrain Station  2013-08-31              11   \n",
       "3           2  San Jose Diridon Caltrain Station  2013-09-01              11   \n",
       "4           2  San Jose Diridon Caltrain Station  2013-09-02              12   \n",
       "\n",
       "   eod_bike_avail  \n",
       "0               3  \n",
       "1              11  \n",
       "2              11  \n",
       "3              12  \n",
       "4              10  "
      ]
     },
     "execution_count": 200,
     "metadata": {},
     "output_type": "execute_result"
    }
   ],
   "source": [
    "df8 = gbq.read_gbq(querry, project_id = project_id, dialect = \"standard\")\n",
    "df8.head()"
   ]
  },
  {
   "cell_type": "markdown",
   "metadata": {},
   "source": [
    "**The table was saved as 'bikeshare_inventory_snapshot'.**"
   ]
  },
  {
   "cell_type": "markdown",
   "metadata": {},
   "source": [
    "#### Acqauire a bikeshare trip transaction table with following fields:\n",
    "1.\tstation_id\n",
    "2.\tstation_name\n",
    "3.\tdate\n",
    "4.\ttxn_count\n",
    "\n",
    "One row of source table will create two records in this datasets\n",
    "\n",
    "For start_stations, txn_count = 1, end_stations, txn_count = -1\n"
   ]
  },
  {
   "cell_type": "code",
   "execution_count": 6,
   "metadata": {
    "collapsed": true
   },
   "outputs": [],
   "source": [
    "querry = \"\"\"\n",
    "\n",
    "SELECT \n",
    "    start_station_id AS station_id,\n",
    "    start_station_name AS station_name,\n",
    "    EXTRACT(date FROM start_date) AS date,\n",
    "    CASE WHEN start_station_id IS NOT NULL THEN -1 END AS txn_count\n",
    "FROM \n",
    "    `bigquery-public-data.san_francisco.bikeshare_trips`\n",
    "UNION ALL\n",
    "SELECT \n",
    "    end_station_id AS station_id,\n",
    "    end_station_name AS station_name,\n",
    "    EXTRACT(date FROM end_date) AS date,\n",
    "    CASE WHEN end_station_id IS NOT NULL THEN 1 END AS txn_count\n",
    "FROM \n",
    "    `bigquery-public-data.san_francisco.bikeshare_trips`\n",
    "ORDER BY \n",
    "    station_id, date\n",
    "\"\"\""
   ]
  },
  {
   "cell_type": "code",
   "execution_count": 7,
   "metadata": {},
   "outputs": [
    {
     "data": {
      "text/html": [
       "<div>\n",
       "<style>\n",
       "    .dataframe thead tr:only-child th {\n",
       "        text-align: right;\n",
       "    }\n",
       "\n",
       "    .dataframe thead th {\n",
       "        text-align: left;\n",
       "    }\n",
       "\n",
       "    .dataframe tbody tr th {\n",
       "        vertical-align: top;\n",
       "    }\n",
       "</style>\n",
       "<table border=\"1\" class=\"dataframe\">\n",
       "  <thead>\n",
       "    <tr style=\"text-align: right;\">\n",
       "      <th></th>\n",
       "      <th>station_id</th>\n",
       "      <th>station_name</th>\n",
       "      <th>date</th>\n",
       "      <th>txn_count</th>\n",
       "    </tr>\n",
       "  </thead>\n",
       "  <tbody>\n",
       "    <tr>\n",
       "      <th>0</th>\n",
       "      <td>2</td>\n",
       "      <td>San Jose Diridon Caltrain Station</td>\n",
       "      <td>2013-08-29</td>\n",
       "      <td>1</td>\n",
       "    </tr>\n",
       "    <tr>\n",
       "      <th>1</th>\n",
       "      <td>2</td>\n",
       "      <td>San Jose Diridon Caltrain Station</td>\n",
       "      <td>2013-08-29</td>\n",
       "      <td>1</td>\n",
       "    </tr>\n",
       "    <tr>\n",
       "      <th>2</th>\n",
       "      <td>2</td>\n",
       "      <td>San Jose Diridon Caltrain Station</td>\n",
       "      <td>2013-08-29</td>\n",
       "      <td>-1</td>\n",
       "    </tr>\n",
       "    <tr>\n",
       "      <th>3</th>\n",
       "      <td>2</td>\n",
       "      <td>San Jose Diridon Caltrain Station</td>\n",
       "      <td>2013-08-29</td>\n",
       "      <td>-1</td>\n",
       "    </tr>\n",
       "    <tr>\n",
       "      <th>4</th>\n",
       "      <td>2</td>\n",
       "      <td>San Jose Diridon Caltrain Station</td>\n",
       "      <td>2013-08-29</td>\n",
       "      <td>1</td>\n",
       "    </tr>\n",
       "  </tbody>\n",
       "</table>\n",
       "</div>"
      ],
      "text/plain": [
       "   station_id                       station_name        date  txn_count\n",
       "0           2  San Jose Diridon Caltrain Station  2013-08-29          1\n",
       "1           2  San Jose Diridon Caltrain Station  2013-08-29          1\n",
       "2           2  San Jose Diridon Caltrain Station  2013-08-29         -1\n",
       "3           2  San Jose Diridon Caltrain Station  2013-08-29         -1\n",
       "4           2  San Jose Diridon Caltrain Station  2013-08-29          1"
      ]
     },
     "execution_count": 7,
     "metadata": {},
     "output_type": "execute_result"
    }
   ],
   "source": [
    "df9 = gbq.read_gbq(querry, project_id = project_id, dialect = \"standard\")\n",
    "df9.head()"
   ]
  },
  {
   "cell_type": "markdown",
   "metadata": {},
   "source": [
    "**The table was saved as 'bikeshare_trip_transaction'.**"
   ]
  },
  {
   "cell_type": "markdown",
   "metadata": {},
   "source": [
    "#### Write the query to join the bikeshare_trip_snapshot table and 'bikeshare_trip_transaction' table"
   ]
  },
  {
   "cell_type": "code",
   "execution_count": 234,
   "metadata": {
    "collapsed": true
   },
   "outputs": [],
   "source": [
    "querry = \"\"\"\n",
    "\n",
    "SELECT \n",
    "    t1.station_id, t1.station_name,\n",
    "    t1.date, t1.bod_bike_avail, t1.eod_bike_avail, \n",
    "    t2.txn_sum, t1.bod_bike_avail+t2.txn_sum AS eod_bike_avail_validate, \n",
    "    if(t1.eod_bike_avail = t1.bod_bike_avail+t2.txn_sum, 'Yes', 'No') as validation\n",
    "FROM(\n",
    "    SELECT *\n",
    "    FROM `ClassDataTest.bikeshare_inventory_snapshot`\n",
    "    )t1\n",
    "JOIN(\n",
    "    SELECT station_id, date, SUM(txn_count) AS txn_sum\n",
    "    FROM `ClassDataTest.bikeshare_trip_transaction`\n",
    "    GROUP BY station_id, date\n",
    "    )t2\n",
    "ON \n",
    "    t1.station_id = t2.station_id AND t1.date = t2.date\n",
    "ORDER BY \n",
    "    station_id, date\n",
    "\"\"\""
   ]
  },
  {
   "cell_type": "code",
   "execution_count": 235,
   "metadata": {},
   "outputs": [
    {
     "data": {
      "text/html": [
       "<div>\n",
       "<style>\n",
       "    .dataframe thead tr:only-child th {\n",
       "        text-align: right;\n",
       "    }\n",
       "\n",
       "    .dataframe thead th {\n",
       "        text-align: left;\n",
       "    }\n",
       "\n",
       "    .dataframe tbody tr th {\n",
       "        vertical-align: top;\n",
       "    }\n",
       "</style>\n",
       "<table border=\"1\" class=\"dataframe\">\n",
       "  <thead>\n",
       "    <tr style=\"text-align: right;\">\n",
       "      <th></th>\n",
       "      <th>station_id</th>\n",
       "      <th>station_name</th>\n",
       "      <th>date</th>\n",
       "      <th>bod_bike_avail</th>\n",
       "      <th>eod_bike_avail</th>\n",
       "      <th>txn_sum</th>\n",
       "      <th>eod_bike_avail_validate</th>\n",
       "      <th>validation</th>\n",
       "    </tr>\n",
       "  </thead>\n",
       "  <tbody>\n",
       "    <tr>\n",
       "      <th>0</th>\n",
       "      <td>2</td>\n",
       "      <td>San Jose Diridon Caltrain Station</td>\n",
       "      <td>2013-08-29</td>\n",
       "      <td>2</td>\n",
       "      <td>3</td>\n",
       "      <td>1</td>\n",
       "      <td>3</td>\n",
       "      <td>Yes</td>\n",
       "    </tr>\n",
       "    <tr>\n",
       "      <th>1</th>\n",
       "      <td>2</td>\n",
       "      <td>San Jose Diridon Caltrain Station</td>\n",
       "      <td>2013-08-30</td>\n",
       "      <td>3</td>\n",
       "      <td>11</td>\n",
       "      <td>1</td>\n",
       "      <td>4</td>\n",
       "      <td>No</td>\n",
       "    </tr>\n",
       "    <tr>\n",
       "      <th>2</th>\n",
       "      <td>2</td>\n",
       "      <td>San Jose Diridon Caltrain Station</td>\n",
       "      <td>2013-08-31</td>\n",
       "      <td>11</td>\n",
       "      <td>11</td>\n",
       "      <td>-1</td>\n",
       "      <td>10</td>\n",
       "      <td>No</td>\n",
       "    </tr>\n",
       "    <tr>\n",
       "      <th>3</th>\n",
       "      <td>2</td>\n",
       "      <td>San Jose Diridon Caltrain Station</td>\n",
       "      <td>2013-09-01</td>\n",
       "      <td>11</td>\n",
       "      <td>12</td>\n",
       "      <td>0</td>\n",
       "      <td>11</td>\n",
       "      <td>No</td>\n",
       "    </tr>\n",
       "    <tr>\n",
       "      <th>4</th>\n",
       "      <td>2</td>\n",
       "      <td>San Jose Diridon Caltrain Station</td>\n",
       "      <td>2013-09-02</td>\n",
       "      <td>12</td>\n",
       "      <td>10</td>\n",
       "      <td>-1</td>\n",
       "      <td>11</td>\n",
       "      <td>No</td>\n",
       "    </tr>\n",
       "  </tbody>\n",
       "</table>\n",
       "</div>"
      ],
      "text/plain": [
       "   station_id                       station_name        date  bod_bike_avail  \\\n",
       "0           2  San Jose Diridon Caltrain Station  2013-08-29               2   \n",
       "1           2  San Jose Diridon Caltrain Station  2013-08-30               3   \n",
       "2           2  San Jose Diridon Caltrain Station  2013-08-31              11   \n",
       "3           2  San Jose Diridon Caltrain Station  2013-09-01              11   \n",
       "4           2  San Jose Diridon Caltrain Station  2013-09-02              12   \n",
       "\n",
       "   eod_bike_avail  txn_sum  eod_bike_avail_validate validation  \n",
       "0               3        1                        3        Yes  \n",
       "1              11        1                        4         No  \n",
       "2              11       -1                       10         No  \n",
       "3              12        0                       11         No  \n",
       "4              10       -1                       11         No  "
      ]
     },
     "execution_count": 235,
     "metadata": {},
     "output_type": "execute_result"
    }
   ],
   "source": [
    "df10 = gbq.read_gbq(querry, project_id = project_id, dialect = \"standard\")\n",
    "df10.head()"
   ]
  },
  {
   "cell_type": "code",
   "execution_count": 240,
   "metadata": {},
   "outputs": [
    {
     "data": {
      "text/plain": [
       "No     41856\n",
       "Yes    25220\n",
       "Name: validation, dtype: int64"
      ]
     },
     "execution_count": 240,
     "metadata": {},
     "output_type": "execute_result"
    }
   ],
   "source": [
    "df10.validation.value_counts()"
   ]
  },
  {
   "cell_type": "markdown",
   "metadata": {},
   "source": [
    "**From the data we have, there is only 37.6% of the records showing that our hypothesis is true. In the real situation, because some bikes were broken or stolen, and also new bikes were put into stations, the end of day bike availability is not alway eaqual to the sum of begin of the day bike availability and transactions among stations. **"
   ]
  }
 ],
 "metadata": {
  "kernelspec": {
   "display_name": "Python 3",
   "language": "python",
   "name": "python3"
  },
  "language_info": {
   "codemirror_mode": {
    "name": "ipython",
    "version": 3
   },
   "file_extension": ".py",
   "mimetype": "text/x-python",
   "name": "python",
   "nbconvert_exporter": "python",
   "pygments_lexer": "ipython3",
   "version": "3.6.5"
  },
  "toc": {
   "nav_menu": {},
   "number_sections": true,
   "sideBar": true,
   "skip_h1_title": false,
   "title_cell": "Table of Contents",
   "title_sidebar": "Contents",
   "toc_cell": true,
   "toc_position": {},
   "toc_section_display": true,
   "toc_window_display": false
  }
 },
 "nbformat": 4,
 "nbformat_minor": 2
}
