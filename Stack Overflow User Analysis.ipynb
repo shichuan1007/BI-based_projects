{
 "cells": [
  {
   "cell_type": "markdown",
   "metadata": {
    "toc": true
   },
   "source": [
    "<h1>Table of Contents<span class=\"tocSkip\"></span></h1>\n",
    "<div class=\"toc\"><ul class=\"toc-item\"><li><span><a href=\"#Stack-Overflow-User-Analysis\" data-toc-modified-id=\"Stack-Overflow-User-Analysis-1\"><span class=\"toc-item-num\">1&nbsp;&nbsp;</span>Stack Overflow User Analysis</a></span><ul class=\"toc-item\"><li><span><a href=\"#Introduction\" data-toc-modified-id=\"Introduction-1.1\"><span class=\"toc-item-num\">1.1&nbsp;&nbsp;</span>Introduction</a></span><ul class=\"toc-item\"><li><span><a href=\"#Objective\" data-toc-modified-id=\"Objective-1.1.1\"><span class=\"toc-item-num\">1.1.1&nbsp;&nbsp;</span>Objective</a></span></li><li><span><a href=\"#Business-Questions\" data-toc-modified-id=\"Business-Questions-1.1.2\"><span class=\"toc-item-num\">1.1.2&nbsp;&nbsp;</span>Business Questions</a></span></li><li><span><a href=\"#Dataset\" data-toc-modified-id=\"Dataset-1.1.3\"><span class=\"toc-item-num\">1.1.3&nbsp;&nbsp;</span>Dataset</a></span><ul class=\"toc-item\"><li><span><a href=\"#Posts_Answers\" data-toc-modified-id=\"Posts_Answers-1.1.3.1\"><span class=\"toc-item-num\">1.1.3.1&nbsp;&nbsp;</span>Posts_Answers</a></span></li><li><span><a href=\"#Posts_Questions\" data-toc-modified-id=\"Posts_Questions-1.1.3.2\"><span class=\"toc-item-num\">1.1.3.2&nbsp;&nbsp;</span>Posts_Questions</a></span></li><li><span><a href=\"#Comments\" data-toc-modified-id=\"Comments-1.1.3.3\"><span class=\"toc-item-num\">1.1.3.3&nbsp;&nbsp;</span>Comments</a></span></li><li><span><a href=\"#Users\" data-toc-modified-id=\"Users-1.1.3.4\"><span class=\"toc-item-num\">1.1.3.4&nbsp;&nbsp;</span>Users</a></span></li></ul></li></ul></li><li><span><a href=\"#Loading-Library\" data-toc-modified-id=\"Loading-Library-1.2\"><span class=\"toc-item-num\">1.2&nbsp;&nbsp;</span>Loading Library</a></span></li><li><span><a href=\"#Monthly-Users-Count\" data-toc-modified-id=\"Monthly-Users-Count-1.3\"><span class=\"toc-item-num\">1.3&nbsp;&nbsp;</span>Monthly Users Count</a></span></li><li><span><a href=\"#YoY-comparison\" data-toc-modified-id=\"YoY-comparison-1.4\"><span class=\"toc-item-num\">1.4&nbsp;&nbsp;</span>YoY comparison</a></span></li><li><span><a href=\"#Monthly-Active-Users\" data-toc-modified-id=\"Monthly-Active-Users-1.5\"><span class=\"toc-item-num\">1.5&nbsp;&nbsp;</span>Monthly Active Users</a></span></li><li><span><a href=\"#Monthly-Active-Users-by-type\" data-toc-modified-id=\"Monthly-Active-Users-by-type-1.6\"><span class=\"toc-item-num\">1.6&nbsp;&nbsp;</span>Monthly Active Users by type</a></span></li><li><span><a href=\"#Monthly-Active-Users-by-New-and-Returning\" data-toc-modified-id=\"Monthly-Active-Users-by-New-and-Returning-1.7\"><span class=\"toc-item-num\">1.7&nbsp;&nbsp;</span>Monthly Active Users by New and Returning</a></span></li></ul></li></ul></div>"
   ]
  },
  {
   "cell_type": "markdown",
   "metadata": {},
   "source": [
    "# Stack Overflow User Analysis"
   ]
  },
  {
   "cell_type": "markdown",
   "metadata": {},
   "source": [
    "![stackoverflow](https://user-images.githubusercontent.com/32689388/41993208-836c7f46-79ff-11e8-90d3-9f1ae9042e06.jpeg)\n"
   ]
  },
  {
   "cell_type": "markdown",
   "metadata": {},
   "source": [
    "## Introduction"
   ]
  },
  {
   "cell_type": "markdown",
   "metadata": {},
   "source": [
    "Stack Overflow is a privately held website, the flagship site of the Stack Exchange Network, created in 2008 by Jeff Atwood and Joel Spolsky. It was created to be a more open alternative to earlier question and answer sites such as Experts-Exchange. The name for the website was chosen by voting in April 2008 by readers of Coding Horror, Atwood's popular programming blog."
   ]
  },
  {
   "cell_type": "markdown",
   "metadata": {},
   "source": [
    "### Objective"
   ]
  },
  {
   "cell_type": "markdown",
   "metadata": {
    "collapsed": true
   },
   "source": [
    "This project is to analyze Stackoverflow's user growth by using Posts_Answers, Posts_Questions, Comment, and user datasets. "
   ]
  },
  {
   "cell_type": "markdown",
   "metadata": {},
   "source": [
    "### Business Questions"
   ]
  },
  {
   "cell_type": "markdown",
   "metadata": {},
   "source": [
    "* Monthly Users Count\n",
    "* YoY comparison\n",
    "* Monthly Active Users by different types"
   ]
  },
  {
   "cell_type": "markdown",
   "metadata": {},
   "source": [
    "### Dataset"
   ]
  },
  {
   "cell_type": "markdown",
   "metadata": {},
   "source": [
    "#### Posts_Answers"
   ]
  },
  {
   "cell_type": "markdown",
   "metadata": {},
   "source": [
    "![screen shot 2018-06-27 at 11 39 58 am](https://user-images.githubusercontent.com/32689388/41993113-3987eb90-79ff-11e8-8e9f-9eefd7460d95.png)\n"
   ]
  },
  {
   "cell_type": "markdown",
   "metadata": {},
   "source": [
    "#### Posts_Questions"
   ]
  },
  {
   "cell_type": "markdown",
   "metadata": {},
   "source": [
    "![screen shot 2018-06-27 at 11 40 36 am](https://user-images.githubusercontent.com/32689388/41993144-54a6b924-79ff-11e8-8290-2b6b2f380656.png)\n"
   ]
  },
  {
   "cell_type": "markdown",
   "metadata": {},
   "source": [
    "#### Comments"
   ]
  },
  {
   "cell_type": "markdown",
   "metadata": {},
   "source": [
    "![screen shot 2018-06-27 at 11 41 13 am](https://user-images.githubusercontent.com/32689388/41993164-6b7b57c2-79ff-11e8-9843-30f990388aba.png)\n"
   ]
  },
  {
   "cell_type": "markdown",
   "metadata": {},
   "source": [
    "#### Users"
   ]
  },
  {
   "cell_type": "markdown",
   "metadata": {},
   "source": [
    "![screen shot 2018-06-27 at 11 41 24 am](https://user-images.githubusercontent.com/32689388/41993184-7992935c-79ff-11e8-8225-810dedff011d.png)\n"
   ]
  },
  {
   "cell_type": "markdown",
   "metadata": {},
   "source": [
    "## Loading Library"
   ]
  },
  {
   "cell_type": "code",
   "execution_count": 1,
   "metadata": {
    "collapsed": true
   },
   "outputs": [],
   "source": [
    "import numpy as np\n",
    "import pandas as pd\n",
    "import seaborn as sns\n",
    "import matplotlib.pyplot as plt\n",
    "from pandas.io import gbq\n",
    "\n",
    "%matplotlib inline"
   ]
  },
  {
   "cell_type": "code",
   "execution_count": 2,
   "metadata": {
    "collapsed": true
   },
   "outputs": [],
   "source": [
    "project_id = 'sublime-oxygen-181503'"
   ]
  },
  {
   "cell_type": "markdown",
   "metadata": {},
   "source": [
    "## Monthly Users Count\n",
    "Create a report with monthly New Users Count and EOM total # of Users (running total)"
   ]
  },
  {
   "cell_type": "code",
   "execution_count": 3,
   "metadata": {
    "collapsed": true
   },
   "outputs": [],
   "source": [
    "querry = \"\"\"\n",
    "\n",
    "SELECT \n",
    "    t1.year,t1.month,t1.new_user,\n",
    "    SUM(t1.new_user) OVER (ORDER BY t1.year,t1.month) AS end_of_month_users\n",
    "FROM (\n",
    "      SELECT \n",
    "          EXTRACT(YEAR FROM creation_date) AS year,\n",
    "          EXTRACT(month from creation_date) AS month,\n",
    "          COUNT(*) AS new_user\n",
    "      FROM \n",
    "          `bigquery-public-data.stackoverflow.users`\n",
    "          GROUP BY year,month\n",
    "     )t1\n",
    "\n",
    "\"\"\""
   ]
  },
  {
   "cell_type": "code",
   "execution_count": 5,
   "metadata": {},
   "outputs": [
    {
     "data": {
      "text/html": [
       "<div>\n",
       "<style>\n",
       "    .dataframe thead tr:only-child th {\n",
       "        text-align: right;\n",
       "    }\n",
       "\n",
       "    .dataframe thead th {\n",
       "        text-align: left;\n",
       "    }\n",
       "\n",
       "    .dataframe tbody tr th {\n",
       "        vertical-align: top;\n",
       "    }\n",
       "</style>\n",
       "<table border=\"1\" class=\"dataframe\">\n",
       "  <thead>\n",
       "    <tr style=\"text-align: right;\">\n",
       "      <th></th>\n",
       "      <th>year</th>\n",
       "      <th>month</th>\n",
       "      <th>new_user</th>\n",
       "      <th>end_of_month_users</th>\n",
       "    </tr>\n",
       "  </thead>\n",
       "  <tbody>\n",
       "    <tr>\n",
       "      <th>0</th>\n",
       "      <td>2008</td>\n",
       "      <td>7</td>\n",
       "      <td>9</td>\n",
       "      <td>9</td>\n",
       "    </tr>\n",
       "    <tr>\n",
       "      <th>1</th>\n",
       "      <td>2008</td>\n",
       "      <td>8</td>\n",
       "      <td>2816</td>\n",
       "      <td>2825</td>\n",
       "    </tr>\n",
       "    <tr>\n",
       "      <th>2</th>\n",
       "      <td>2008</td>\n",
       "      <td>9</td>\n",
       "      <td>9663</td>\n",
       "      <td>12488</td>\n",
       "    </tr>\n",
       "    <tr>\n",
       "      <th>3</th>\n",
       "      <td>2008</td>\n",
       "      <td>10</td>\n",
       "      <td>3553</td>\n",
       "      <td>16041</td>\n",
       "    </tr>\n",
       "    <tr>\n",
       "      <th>4</th>\n",
       "      <td>2008</td>\n",
       "      <td>11</td>\n",
       "      <td>2863</td>\n",
       "      <td>18904</td>\n",
       "    </tr>\n",
       "  </tbody>\n",
       "</table>\n",
       "</div>"
      ],
      "text/plain": [
       "   year  month  new_user  end_of_month_users\n",
       "0  2008      7         9                   9\n",
       "1  2008      8      2816                2825\n",
       "2  2008      9      9663               12488\n",
       "3  2008     10      3553               16041\n",
       "4  2008     11      2863               18904"
      ]
     },
     "execution_count": 5,
     "metadata": {},
     "output_type": "execute_result"
    }
   ],
   "source": [
    "df1 = gbq.read_gbq(querry, project_id = project_id, dialect = \"standard\")\n",
    "df1.head()"
   ]
  },
  {
   "cell_type": "code",
   "execution_count": 25,
   "metadata": {},
   "outputs": [
    {
     "name": "stdout",
     "output_type": "stream",
     "text": [
      "<class 'pandas.core.frame.DataFrame'>\n",
      "RangeIndex: 120 entries, 0 to 119\n",
      "Data columns (total 4 columns):\n",
      "year                  120 non-null int64\n",
      "month                 120 non-null int64\n",
      "new_user              120 non-null int64\n",
      "end_of_month_users    120 non-null int64\n",
      "dtypes: int64(4)\n",
      "memory usage: 3.8 KB\n"
     ]
    }
   ],
   "source": [
    "df1.info()"
   ]
  },
  {
   "cell_type": "markdown",
   "metadata": {},
   "source": [
    "## YoY comparison "
   ]
  },
  {
   "cell_type": "markdown",
   "metadata": {},
   "source": [
    "Include two additional metrics in above report: LY New Users Count, and LY EOM total # of Users. If current month is 10/2017, then LY New Users Count is: 10/2016. You can use analytical functions or the date dimension. #4, #5, #6 are all related\n"
   ]
  },
  {
   "cell_type": "code",
   "execution_count": 6,
   "metadata": {
    "collapsed": true
   },
   "outputs": [],
   "source": [
    "querry = \"\"\"\n",
    "\n",
    "WITH \n",
    "q1 AS (\n",
    "        SELECT \n",
    "            t1.year,t1.month,t1.new_user,\n",
    "            SUM(t1.new_user) OVER (ORDER BY t1.year,t1.month) AS EOM_user\n",
    "        FROM(\n",
    "            SELECT \n",
    "                EXTRACT(year FROM creation_date) AS year,\n",
    "                EXTRACT(month FROM creation_date) AS month,\n",
    "                COUNT(*) AS new_user\n",
    "            FROM \n",
    "                `bigquery-public-data.stackoverflow.users`\n",
    "            GROUP BY \n",
    "                year,month\n",
    "            )t1\n",
    "        )\n",
    "\n",
    "SELECT \n",
    "    A.*, B.new_user AS LY_new_user, \n",
    "    B.EOM_user AS LY_EOM_user\n",
    "FROM \n",
    "    q1 AS A\n",
    "LEFT JOIN \n",
    "    q1 AS B\n",
    "ON \n",
    "    A. year = B.year+1\n",
    "    AND A.month = B.month\n",
    "\n",
    "\"\"\""
   ]
  },
  {
   "cell_type": "code",
   "execution_count": 26,
   "metadata": {},
   "outputs": [
    {
     "data": {
      "text/html": [
       "<div>\n",
       "<style>\n",
       "    .dataframe thead tr:only-child th {\n",
       "        text-align: right;\n",
       "    }\n",
       "\n",
       "    .dataframe thead th {\n",
       "        text-align: left;\n",
       "    }\n",
       "\n",
       "    .dataframe tbody tr th {\n",
       "        vertical-align: top;\n",
       "    }\n",
       "</style>\n",
       "<table border=\"1\" class=\"dataframe\">\n",
       "  <thead>\n",
       "    <tr style=\"text-align: right;\">\n",
       "      <th></th>\n",
       "      <th>year</th>\n",
       "      <th>month</th>\n",
       "      <th>user_id</th>\n",
       "      <th>question_flag</th>\n",
       "      <th>comment_flag</th>\n",
       "      <th>answer_flag</th>\n",
       "    </tr>\n",
       "  </thead>\n",
       "  <tbody>\n",
       "    <tr>\n",
       "      <th>0</th>\n",
       "      <td>2008</td>\n",
       "      <td>7</td>\n",
       "      <td>8</td>\n",
       "      <td>1</td>\n",
       "      <td>0</td>\n",
       "      <td>0</td>\n",
       "    </tr>\n",
       "    <tr>\n",
       "      <th>1</th>\n",
       "      <td>2008</td>\n",
       "      <td>7</td>\n",
       "      <td>1</td>\n",
       "      <td>1</td>\n",
       "      <td>0</td>\n",
       "      <td>1</td>\n",
       "    </tr>\n",
       "    <tr>\n",
       "      <th>2</th>\n",
       "      <td>2008</td>\n",
       "      <td>7</td>\n",
       "      <td>9</td>\n",
       "      <td>1</td>\n",
       "      <td>0</td>\n",
       "      <td>1</td>\n",
       "    </tr>\n",
       "    <tr>\n",
       "      <th>3</th>\n",
       "      <td>2008</td>\n",
       "      <td>8</td>\n",
       "      <td>809</td>\n",
       "      <td>0</td>\n",
       "      <td>0</td>\n",
       "      <td>1</td>\n",
       "    </tr>\n",
       "    <tr>\n",
       "      <th>4</th>\n",
       "      <td>2008</td>\n",
       "      <td>8</td>\n",
       "      <td>1231</td>\n",
       "      <td>0</td>\n",
       "      <td>0</td>\n",
       "      <td>1</td>\n",
       "    </tr>\n",
       "  </tbody>\n",
       "</table>\n",
       "</div>"
      ],
      "text/plain": [
       "   year  month  user_id  question_flag  comment_flag  answer_flag\n",
       "0  2008      7        8              1             0            0\n",
       "1  2008      7        1              1             0            1\n",
       "2  2008      7        9              1             0            1\n",
       "3  2008      8      809              0             0            1\n",
       "4  2008      8     1231              0             0            1"
      ]
     },
     "execution_count": 26,
     "metadata": {},
     "output_type": "execute_result"
    }
   ],
   "source": [
    "df2 = gbq.read_gbq(querry, project_id = project_id, dialect = \"standard\")\n",
    "df2.head()"
   ]
  },
  {
   "cell_type": "code",
   "execution_count": 27,
   "metadata": {},
   "outputs": [
    {
     "name": "stdout",
     "output_type": "stream",
     "text": [
      "<class 'pandas.core.frame.DataFrame'>\n",
      "RangeIndex: 7105986 entries, 0 to 7105985\n",
      "Data columns (total 6 columns):\n",
      "year             int64\n",
      "month            int64\n",
      "user_id          int64\n",
      "question_flag    int64\n",
      "comment_flag     int64\n",
      "answer_flag      int64\n",
      "dtypes: int64(6)\n",
      "memory usage: 325.3 MB\n"
     ]
    }
   ],
   "source": [
    "df2.info()"
   ]
  },
  {
   "cell_type": "markdown",
   "metadata": {},
   "source": [
    "## Monthly Active Users\n"
   ]
  },
  {
   "cell_type": "markdown",
   "metadata": {},
   "source": [
    "Let’s define Active as:\n",
    "\n",
    "As long as the user post a question, or a comment or an answer, we consider (s)he is active in that day or month.\n",
    "\n",
    "Final MAU fact_table can start from following columns. (createTs is only used for incremental ETL as we learnt in class, it is not that meaningful in this exercise since we’re loading everything within one batch.) \n",
    "Month, User_id (, createTs )\n",
    "\n",
    "Then the final monthly active count will be a simple select from above table.\n"
   ]
  },
  {
   "cell_type": "code",
   "execution_count": 8,
   "metadata": {
    "collapsed": true
   },
   "outputs": [],
   "source": [
    "querry = \"\"\"\n",
    "\n",
    "SELECT \n",
    "    DISTINCT(owner_user_id) AS user_id,\n",
    "    EXTRACT(YEAR FROM creation_date) AS YEAR,\n",
    "    EXTRACT(MONTH FROM creation_date) AS month,\n",
    "    CURRENT_TIMESTAMP() AS createTs\n",
    "FROM \n",
    "    `bigquery-public-data.stackoverflow.posts_questions`\n",
    "WHERE \n",
    "    owner_user_id IS NOT NULL\n",
    "    AND extract(year FROM creation_date)<2015\n",
    "\n",
    "UNION DISTINCT\n",
    "\n",
    "SELECT \n",
    "    DISTINCT(user_id) AS user_id,\n",
    "    EXTRACT(YEAR FROM creation_date) AS year,\n",
    "    EXTRACT(MONTH FROM creation_date) AS month,\n",
    "    CURRENT_TIMESTAMP() AS createTs\n",
    "FROM \n",
    "    `bigquery-public-data.stackoverflow.comments`\n",
    "WHERE \n",
    "    user_id IS NOT NULL\n",
    "    AND extract(year FROM creation_date)<2015\n",
    "\n",
    "UNION DISTINCT\n",
    "\n",
    "SELECT \n",
    "    DISTINCT(owner_user_id) AS user_id,\n",
    "    EXTRACT(year FROM creation_date) AS year,\n",
    "    EXTRACT(month FROM creation_date) AS month,\n",
    "    CURRENT_TIMESTAMP() AS createTs\n",
    "FROM \n",
    "    `bigquery-public-data.stackoverflow.posts_answers`\n",
    "WHERE \n",
    "    owner_user_id IS NOT NULL \n",
    "    AND extract(YEAR FROM creation_date)<2015\n",
    "\n",
    "ORDER BY 1，2，3\n",
    "\n",
    "\"\"\""
   ]
  },
  {
   "cell_type": "code",
   "execution_count": 24,
   "metadata": {},
   "outputs": [
    {
     "data": {
      "text/html": [
       "<div>\n",
       "<style>\n",
       "    .dataframe thead tr:only-child th {\n",
       "        text-align: right;\n",
       "    }\n",
       "\n",
       "    .dataframe thead th {\n",
       "        text-align: left;\n",
       "    }\n",
       "\n",
       "    .dataframe tbody tr th {\n",
       "        vertical-align: top;\n",
       "    }\n",
       "</style>\n",
       "<table border=\"1\" class=\"dataframe\">\n",
       "  <thead>\n",
       "    <tr style=\"text-align: right;\">\n",
       "      <th></th>\n",
       "      <th>year</th>\n",
       "      <th>month</th>\n",
       "      <th>user_id</th>\n",
       "      <th>question_flag</th>\n",
       "      <th>comment_flag</th>\n",
       "      <th>answer_flag</th>\n",
       "    </tr>\n",
       "  </thead>\n",
       "  <tbody>\n",
       "    <tr>\n",
       "      <th>0</th>\n",
       "      <td>2008</td>\n",
       "      <td>7</td>\n",
       "      <td>8</td>\n",
       "      <td>1</td>\n",
       "      <td>0</td>\n",
       "      <td>0</td>\n",
       "    </tr>\n",
       "    <tr>\n",
       "      <th>1</th>\n",
       "      <td>2008</td>\n",
       "      <td>7</td>\n",
       "      <td>1</td>\n",
       "      <td>1</td>\n",
       "      <td>0</td>\n",
       "      <td>1</td>\n",
       "    </tr>\n",
       "    <tr>\n",
       "      <th>2</th>\n",
       "      <td>2008</td>\n",
       "      <td>7</td>\n",
       "      <td>9</td>\n",
       "      <td>1</td>\n",
       "      <td>0</td>\n",
       "      <td>1</td>\n",
       "    </tr>\n",
       "    <tr>\n",
       "      <th>3</th>\n",
       "      <td>2008</td>\n",
       "      <td>8</td>\n",
       "      <td>3894</td>\n",
       "      <td>1</td>\n",
       "      <td>0</td>\n",
       "      <td>0</td>\n",
       "    </tr>\n",
       "    <tr>\n",
       "      <th>4</th>\n",
       "      <td>2008</td>\n",
       "      <td>8</td>\n",
       "      <td>3631</td>\n",
       "      <td>0</td>\n",
       "      <td>0</td>\n",
       "      <td>1</td>\n",
       "    </tr>\n",
       "  </tbody>\n",
       "</table>\n",
       "</div>"
      ],
      "text/plain": [
       "   year  month  user_id  question_flag  comment_flag  answer_flag\n",
       "0  2008      7        8              1             0            0\n",
       "1  2008      7        1              1             0            1\n",
       "2  2008      7        9              1             0            1\n",
       "3  2008      8     3894              1             0            0\n",
       "4  2008      8     3631              0             0            1"
      ]
     },
     "execution_count": 24,
     "metadata": {},
     "output_type": "execute_result"
    }
   ],
   "source": [
    "df3 = gbq.read_gbq(querry, project_id = project_id, dialect = \"standard\")\n",
    "df3.head()"
   ]
  },
  {
   "cell_type": "code",
   "execution_count": 28,
   "metadata": {},
   "outputs": [
    {
     "name": "stdout",
     "output_type": "stream",
     "text": [
      "<class 'pandas.core.frame.DataFrame'>\n",
      "RangeIndex: 7105986 entries, 0 to 7105985\n",
      "Data columns (total 6 columns):\n",
      "year             int64\n",
      "month            int64\n",
      "user_id          int64\n",
      "question_flag    int64\n",
      "comment_flag     int64\n",
      "answer_flag      int64\n",
      "dtypes: int64(6)\n",
      "memory usage: 325.3 MB\n"
     ]
    }
   ],
   "source": [
    "df3.info()"
   ]
  },
  {
   "cell_type": "markdown",
   "metadata": {},
   "source": [
    "## Monthly Active Users by type"
   ]
  },
  {
   "cell_type": "markdown",
   "metadata": {},
   "source": [
    "To understand their engagement level, e.g.: Monthly Post-Question Active, Monthly Make-Comments Active, Monthly Answer-Question Active. And we know one user can be in one, two or all three of these buckets, and these active numbers are not additive. \n",
    "\n",
    "Below is one way we can address this problem:m\n",
    "Month, User_id, question_flag, comment_flag, answer_flag(, createTs)\n"
   ]
  },
  {
   "cell_type": "code",
   "execution_count": 20,
   "metadata": {
    "code_folding": [],
    "collapsed": true
   },
   "outputs": [],
   "source": [
    "querry = \"\"\"\n",
    "\n",
    "WITH \n",
    "q4 AS (SELECT \n",
    "            DISTINCT(owner_user_id) AS user_id,\n",
    "            EXTRACT(year FROM creation_date) AS year,\n",
    "            EXTRACT(month FROM creation_date) AS month,\n",
    "            \"question\" AS type,\n",
    "            CURRENT_TIMESTAMP() AS createTs\n",
    "        FROM \n",
    "            `bigquery-public-data.stackoverflow.posts_questions`\n",
    "        WHERE owner_user_id IS NOT NULL\n",
    "                AND extract(YEAR FROM creation_date)<2015\n",
    "\n",
    "        UNION DISTINCT\n",
    "\n",
    "        SELECT \n",
    "            DISTINCT(user_id) AS user_id,\n",
    "            EXTRACT(YEAR FROM creation_date) AS year,\n",
    "            EXTRACT(MONTH FROM creation_date) AS month,\n",
    "            \"comment\" AS type,\n",
    "            CURRENT_TIMESTAMP() AS createTs\n",
    "        FROM \n",
    "            `bigquery-public-data.stackoverflow.comments`\n",
    "        WHERE user_id IS NOT NULL\n",
    "                AND extract(YEAR FROM creation_date)<2015\n",
    "\n",
    "        UNION DISTINCT\n",
    "\n",
    "        SELECT \n",
    "            DISTINCT(owner_user_id) AS user_id,\n",
    "            EXTRACT(YEAR FROM creation_date) AS year,\n",
    "            EXTRACT(MONTH FROM creation_date) AS month,\n",
    "            \"answer\" AS type,\n",
    "            CURRENT_TIMESTAMP() AS createTs\n",
    "        FROM \n",
    "            `bigquery-public-data.stackoverflow.posts_answers`\n",
    "        WHERE owner_user_id IS NOT NULL\n",
    "                AND extract(YEAR FROM creation_date)<2015\n",
    "        )\n",
    "\n",
    "SELECT \n",
    "    q4.year, q4.month, q4.user_id,\n",
    "    MAX(CASE WHEN q4.type = \"question\" THEN 1 ELSE 0 END) AS question_flag,\n",
    "    MAX(CASE WHEN q4.type = \"comment\" THEN 1 ELSE 0 END) AS comment_flag,\n",
    "    MAX(CASE WHEN q4.type = \"answer\" THEN 1 ELSE 0 END) AS answer_flag\n",
    "FROM \n",
    "    q4\n",
    "GROUP BY\n",
    "    q4.year, q4.month, q4.user_id\n",
    "\n",
    "\"\"\""
   ]
  },
  {
   "cell_type": "code",
   "execution_count": 21,
   "metadata": {},
   "outputs": [
    {
     "data": {
      "text/html": [
       "<div>\n",
       "<style>\n",
       "    .dataframe thead tr:only-child th {\n",
       "        text-align: right;\n",
       "    }\n",
       "\n",
       "    .dataframe thead th {\n",
       "        text-align: left;\n",
       "    }\n",
       "\n",
       "    .dataframe tbody tr th {\n",
       "        vertical-align: top;\n",
       "    }\n",
       "</style>\n",
       "<table border=\"1\" class=\"dataframe\">\n",
       "  <thead>\n",
       "    <tr style=\"text-align: right;\">\n",
       "      <th></th>\n",
       "      <th>year</th>\n",
       "      <th>month</th>\n",
       "      <th>user_id</th>\n",
       "      <th>question_flag</th>\n",
       "      <th>comment_flag</th>\n",
       "      <th>answer_flag</th>\n",
       "    </tr>\n",
       "  </thead>\n",
       "  <tbody>\n",
       "    <tr>\n",
       "      <th>0</th>\n",
       "      <td>2008</td>\n",
       "      <td>7</td>\n",
       "      <td>8</td>\n",
       "      <td>1</td>\n",
       "      <td>0</td>\n",
       "      <td>0</td>\n",
       "    </tr>\n",
       "    <tr>\n",
       "      <th>1</th>\n",
       "      <td>2008</td>\n",
       "      <td>7</td>\n",
       "      <td>1</td>\n",
       "      <td>1</td>\n",
       "      <td>0</td>\n",
       "      <td>1</td>\n",
       "    </tr>\n",
       "    <tr>\n",
       "      <th>2</th>\n",
       "      <td>2008</td>\n",
       "      <td>7</td>\n",
       "      <td>9</td>\n",
       "      <td>1</td>\n",
       "      <td>0</td>\n",
       "      <td>1</td>\n",
       "    </tr>\n",
       "    <tr>\n",
       "      <th>3</th>\n",
       "      <td>2008</td>\n",
       "      <td>8</td>\n",
       "      <td>3894</td>\n",
       "      <td>1</td>\n",
       "      <td>0</td>\n",
       "      <td>0</td>\n",
       "    </tr>\n",
       "    <tr>\n",
       "      <th>4</th>\n",
       "      <td>2008</td>\n",
       "      <td>8</td>\n",
       "      <td>3631</td>\n",
       "      <td>0</td>\n",
       "      <td>0</td>\n",
       "      <td>1</td>\n",
       "    </tr>\n",
       "  </tbody>\n",
       "</table>\n",
       "</div>"
      ],
      "text/plain": [
       "   year  month  user_id  question_flag  comment_flag  answer_flag\n",
       "0  2008      7        8              1             0            0\n",
       "1  2008      7        1              1             0            1\n",
       "2  2008      7        9              1             0            1\n",
       "3  2008      8     3894              1             0            0\n",
       "4  2008      8     3631              0             0            1"
      ]
     },
     "execution_count": 21,
     "metadata": {},
     "output_type": "execute_result"
    }
   ],
   "source": [
    "df4 = gbq.read_gbq(querry, project_id = project_id, dialect = \"standard\")\n",
    "df4.head()"
   ]
  },
  {
   "cell_type": "code",
   "execution_count": 23,
   "metadata": {},
   "outputs": [
    {
     "name": "stdout",
     "output_type": "stream",
     "text": [
      "<class 'pandas.core.frame.DataFrame'>\n",
      "RangeIndex: 7105986 entries, 0 to 7105985\n",
      "Data columns (total 6 columns):\n",
      "year             int64\n",
      "month            int64\n",
      "user_id          int64\n",
      "question_flag    int64\n",
      "comment_flag     int64\n",
      "answer_flag      int64\n",
      "dtypes: int64(6)\n",
      "memory usage: 325.3 MB\n"
     ]
    }
   ],
   "source": [
    "df4.info()"
   ]
  },
  {
   "cell_type": "markdown",
   "metadata": {},
   "source": [
    "## Monthly Active Users by New and Returning\n"
   ]
  },
  {
   "cell_type": "markdown",
   "metadata": {},
   "source": [
    "New/Returning Active: If the users has been created in the same month, then “New”, else “Returning” . Note a user can be either “New” or “Returning” in the given period of time. So New and Returning counts are additive."
   ]
  },
  {
   "cell_type": "code",
   "execution_count": 29,
   "metadata": {
    "collapsed": true
   },
   "outputs": [],
   "source": [
    "querry = \"\"\"\n",
    "\n",
    "WITH \n",
    "    q4 AS(\n",
    "        SELECT \n",
    "            DISTINCT(owner_user_id) AS user_id,\n",
    "            EXTRACT(year FROM creation_date) AS year,\n",
    "            EXTRACT(month FROM creation_date) AS month,\n",
    "            \"question\" AS type,\n",
    "            CURRENT_TIMESTAMP() AS createTs\n",
    "        FROM \n",
    "            `bigquery-public-data.stackoverflow.posts_questions`\n",
    "        WHERE \n",
    "            owner_user_id IS NOT NULL\n",
    "            AND EXTRACT(YEAR FROM creation_date)<2015\n",
    "\n",
    "        UNION DISTINCT\n",
    "\n",
    "        SELECT \n",
    "            DISTINCT(user_id) AS user_id,\n",
    "            EXTRACT(year FROM creation_date) AS year,\n",
    "            EXTRACT(month FROM creation_date) AS month,\n",
    "            \"comment\" AS type,\n",
    "            CURRENT_TIMESTAMP() AS createTs\n",
    "        FROM \n",
    "            `bigquery-public-data.stackoverflow.comments`\n",
    "        WHERE \n",
    "            user_id IS NOT NULL\n",
    "            AND EXTRACT(year from creation_date)<2015\n",
    "\n",
    "        UNION DISTINCT\n",
    "\n",
    "        SELECT \n",
    "            DISTINCT(owner_user_id) AS user_id,\n",
    "            EXTRACT(YEAR FROM creation_date) AS year,\n",
    "            EXTRACT(MONTH FROM creation_date) AS month,\n",
    "            \"answer\" as type,\n",
    "            CURRENT_TIMESTAMP() AS createTs\n",
    "        FROM \n",
    "            `bigquery-public-data.stackoverflow.posts_answers`\n",
    "        WHERE \n",
    "            owner_user_id IS NOT NULL\n",
    "            AND EXTRACT(YEAR FROM creation_date)<2015\n",
    "            )\n",
    "\n",
    "SELECT \n",
    "    q5.year, q5.month, q5.user_id, \n",
    "    CASE WHEN q5.year = user.year AND q5.month = user.month \n",
    "         THEN \"New\" ELSE \"Ret\" END AS new_vs_ret,\n",
    "    q5.question_flag, q5.comment_flag, q5.answer_flag\n",
    "FROM(\n",
    "      SELECT \n",
    "          q4.year, q4.month, q4.user_id,\n",
    "          MAX(CASE WHEN q4.type = \"question\" THEN 1 ELSE 0 END) AS question_flag,\n",
    "          MAX(CASE WHEN q4.type = \"comment\" THEN 1 ELSE 0 END) AS comment_flag,\n",
    "          MAX(CASE WHEN q4.type = \"answer\" THEN 1 ELSE 0 END) AS answer_flag\n",
    "      FROM \n",
    "          q4\n",
    "      GROUP BY \n",
    "          1,2,3\n",
    "     )q5\n",
    "LEFT JOIN (\n",
    "            SELECT \n",
    "                id,EXTRACT(YEAR FROM creation_date) AS year,\n",
    "                EXTRACT(month FROM creation_date) AS month\n",
    "            FROM \n",
    "                `bigquery-public-data.stackoverflow.users`\n",
    "           )user\n",
    "ON \n",
    "    q5.user_id = user.id\n",
    "ORDER BY \n",
    "    1,2,3\n",
    "\n",
    "\"\"\""
   ]
  },
  {
   "cell_type": "code",
   "execution_count": 33,
   "metadata": {},
   "outputs": [
    {
     "data": {
      "text/html": [
       "<div>\n",
       "<style>\n",
       "    .dataframe thead tr:only-child th {\n",
       "        text-align: right;\n",
       "    }\n",
       "\n",
       "    .dataframe thead th {\n",
       "        text-align: left;\n",
       "    }\n",
       "\n",
       "    .dataframe tbody tr th {\n",
       "        vertical-align: top;\n",
       "    }\n",
       "</style>\n",
       "<table border=\"1\" class=\"dataframe\">\n",
       "  <thead>\n",
       "    <tr style=\"text-align: right;\">\n",
       "      <th></th>\n",
       "      <th>year</th>\n",
       "      <th>month</th>\n",
       "      <th>user_id</th>\n",
       "      <th>new_vs_ret</th>\n",
       "      <th>question_flag</th>\n",
       "      <th>comment_flag</th>\n",
       "      <th>answer_flag</th>\n",
       "    </tr>\n",
       "  </thead>\n",
       "  <tbody>\n",
       "    <tr>\n",
       "      <th>0</th>\n",
       "      <td>2008</td>\n",
       "      <td>7</td>\n",
       "      <td>1</td>\n",
       "      <td>New</td>\n",
       "      <td>1</td>\n",
       "      <td>0</td>\n",
       "      <td>1</td>\n",
       "    </tr>\n",
       "    <tr>\n",
       "      <th>1</th>\n",
       "      <td>2008</td>\n",
       "      <td>7</td>\n",
       "      <td>8</td>\n",
       "      <td>New</td>\n",
       "      <td>1</td>\n",
       "      <td>0</td>\n",
       "      <td>0</td>\n",
       "    </tr>\n",
       "    <tr>\n",
       "      <th>2</th>\n",
       "      <td>2008</td>\n",
       "      <td>7</td>\n",
       "      <td>9</td>\n",
       "      <td>New</td>\n",
       "      <td>1</td>\n",
       "      <td>0</td>\n",
       "      <td>1</td>\n",
       "    </tr>\n",
       "    <tr>\n",
       "      <th>3</th>\n",
       "      <td>2008</td>\n",
       "      <td>8</td>\n",
       "      <td>1</td>\n",
       "      <td>Ret</td>\n",
       "      <td>1</td>\n",
       "      <td>1</td>\n",
       "      <td>1</td>\n",
       "    </tr>\n",
       "    <tr>\n",
       "      <th>4</th>\n",
       "      <td>2008</td>\n",
       "      <td>8</td>\n",
       "      <td>2</td>\n",
       "      <td>Ret</td>\n",
       "      <td>1</td>\n",
       "      <td>0</td>\n",
       "      <td>1</td>\n",
       "    </tr>\n",
       "  </tbody>\n",
       "</table>\n",
       "</div>"
      ],
      "text/plain": [
       "   year  month  user_id new_vs_ret  question_flag  comment_flag  answer_flag\n",
       "0  2008      7        1        New              1             0            1\n",
       "1  2008      7        8        New              1             0            0\n",
       "2  2008      7        9        New              1             0            1\n",
       "3  2008      8        1        Ret              1             1            1\n",
       "4  2008      8        2        Ret              1             0            1"
      ]
     },
     "execution_count": 33,
     "metadata": {},
     "output_type": "execute_result"
    }
   ],
   "source": [
    "df5 = gbq.read_gbq(querry, project_id = project_id, dialect = \"standard\")\n",
    "df5.head()"
   ]
  },
  {
   "cell_type": "code",
   "execution_count": 34,
   "metadata": {},
   "outputs": [
    {
     "name": "stdout",
     "output_type": "stream",
     "text": [
      "<class 'pandas.core.frame.DataFrame'>\n",
      "RangeIndex: 7105986 entries, 0 to 7105985\n",
      "Data columns (total 7 columns):\n",
      "year             int64\n",
      "month            int64\n",
      "user_id          int64\n",
      "new_vs_ret       object\n",
      "question_flag    int64\n",
      "comment_flag     int64\n",
      "answer_flag      int64\n",
      "dtypes: int64(6), object(1)\n",
      "memory usage: 379.5+ MB\n"
     ]
    }
   ],
   "source": [
    "df5.info()"
   ]
  }
 ],
 "metadata": {
  "kernelspec": {
   "display_name": "Python 3",
   "language": "python",
   "name": "python3"
  },
  "language_info": {
   "codemirror_mode": {
    "name": "ipython",
    "version": 3
   },
   "file_extension": ".py",
   "mimetype": "text/x-python",
   "name": "python",
   "nbconvert_exporter": "python",
   "pygments_lexer": "ipython3",
   "version": "3.6.5"
  },
  "toc": {
   "nav_menu": {},
   "number_sections": true,
   "sideBar": true,
   "skip_h1_title": false,
   "title_cell": "Table of Contents",
   "title_sidebar": "Contents",
   "toc_cell": true,
   "toc_position": {},
   "toc_section_display": true,
   "toc_window_display": false
  }
 },
 "nbformat": 4,
 "nbformat_minor": 2
}
