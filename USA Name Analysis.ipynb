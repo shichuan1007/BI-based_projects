{
 "cells": [
  {
   "cell_type": "markdown",
   "metadata": {
    "toc": true
   },
   "source": [
    "<h1>Table of Contents<span class=\"tocSkip\"></span></h1>\n",
    "<div class=\"toc\"><ul class=\"toc-item\"><li><span><a href=\"#USA-Name-Analysis\" data-toc-modified-id=\"USA-Name-Analysis-1\"><span class=\"toc-item-num\">1&nbsp;&nbsp;</span>USA Name Analysis</a></span><ul class=\"toc-item\"><li><span><a href=\"#Introduction\" data-toc-modified-id=\"Introduction-1.1\"><span class=\"toc-item-num\">1.1&nbsp;&nbsp;</span>Introduction</a></span><ul class=\"toc-item\"><li><span><a href=\"#Objective\" data-toc-modified-id=\"Objective-1.1.1\"><span class=\"toc-item-num\">1.1.1&nbsp;&nbsp;</span>Objective</a></span></li><li><span><a href=\"#Questions-to-Explore-the-Dataset\" data-toc-modified-id=\"Questions-to-Explore-the-Dataset-1.1.2\"><span class=\"toc-item-num\">1.1.2&nbsp;&nbsp;</span>Questions to Explore the Dataset</a></span></li><li><span><a href=\"#Dataset\" data-toc-modified-id=\"Dataset-1.1.3\"><span class=\"toc-item-num\">1.1.3&nbsp;&nbsp;</span>Dataset</a></span></li></ul></li><li><span><a href=\"#Data-Acquisition-and-Analysis\" data-toc-modified-id=\"Data-Acquisition-and-Analysis-1.2\"><span class=\"toc-item-num\">1.2&nbsp;&nbsp;</span>Data Acquisition and Analysis</a></span><ul class=\"toc-item\"><li><span><a href=\"#Load-Libraries\" data-toc-modified-id=\"Load-Libraries-1.2.1\"><span class=\"toc-item-num\">1.2.1&nbsp;&nbsp;</span>Load Libraries</a></span></li><li><span><a href=\"#Brief-View-about-the-data\" data-toc-modified-id=\"Brief-View-about-the-data-1.2.2\"><span class=\"toc-item-num\">1.2.2&nbsp;&nbsp;</span>Brief View about the data</a></span></li><li><span><a href=\"#How-many-distinct-years-in-the-table?\" data-toc-modified-id=\"How-many-distinct-years-in-the-table?-1.2.3\"><span class=\"toc-item-num\">1.2.3&nbsp;&nbsp;</span>How many distinct years in the table?</a></span></li><li><span><a href=\"#How-many-records-of-names-in-each-year?\" data-toc-modified-id=\"How-many-records-of-names-in-each-year?-1.2.4\"><span class=\"toc-item-num\">1.2.4&nbsp;&nbsp;</span>How many records of names in each year?</a></span></li><li><span><a href=\"#How-many-different-names-in-this-dataset?\" data-toc-modified-id=\"How-many-different-names-in-this-dataset?-1.2.5\"><span class=\"toc-item-num\">1.2.5&nbsp;&nbsp;</span>How many different names in this dataset?</a></span></li><li><span><a href=\"#What-are-the-top-10-popular-names-since-1910?\" data-toc-modified-id=\"What-are-the-top-10-popular-names-since-1910?-1.2.6\"><span class=\"toc-item-num\">1.2.6&nbsp;&nbsp;</span>What are the top 10 popular names since 1910?</a></span></li><li><span><a href=\"#What-are-the-top-10-popular-name-after-year-2000?\" data-toc-modified-id=\"What-are-the-top-10-popular-name-after-year-2000?-1.2.7\"><span class=\"toc-item-num\">1.2.7&nbsp;&nbsp;</span>What are the top 10 popular name after year 2000?</a></span></li><li><span><a href=\"#What-are-the-names-that-are-in-the-top-10-popular-name-list-both-since-1910-and-since-2000?\" data-toc-modified-id=\"What-are-the-names-that-are-in-the-top-10-popular-name-list-both-since-1910-and-since-2000?-1.2.8\"><span class=\"toc-item-num\">1.2.8&nbsp;&nbsp;</span>What are the names that are in the top 10 popular name list both since 1910 and since 2000?</a></span></li><li><span><a href=\"#Since-Year-2000,-how-many-total-number-of-records-with-name-‘Julia’?\" data-toc-modified-id=\"Since-Year-2000,-how-many-total-number-of-records-with-name-‘Julia’?-1.2.9\"><span class=\"toc-item-num\">1.2.9&nbsp;&nbsp;</span>Since Year 2000, how many total number of records with name ‘Julia’?</a></span></li><li><span><a href=\"#Since-Year-2000,-how-many-records-with-patterns-name-starting-with-‘jul’-?\" data-toc-modified-id=\"Since-Year-2000,-how-many-records-with-patterns-name-starting-with-‘jul’-?-1.2.10\"><span class=\"toc-item-num\">1.2.10&nbsp;&nbsp;</span>Since Year 2000, how many records with patterns name starting with ‘jul’ ?</a></span></li><li><span><a href=\"#Since-Year-2000,-how-many-female-names-contains-‘jul’,-with-total-record-counts-per-name-greater-than-10000?\" data-toc-modified-id=\"Since-Year-2000,-how-many-female-names-contains-‘jul’,-with-total-record-counts-per-name-greater-than-10000?-1.2.11\"><span class=\"toc-item-num\">1.2.11&nbsp;&nbsp;</span>Since Year 2000, how many female names contains ‘jul’, with total record counts per name greater than 10000?</a></span></li><li><span><a href=\"#Historically,-is-‘Julia’-a-more-popular-female-name-choice-than-‘Julie’?\" data-toc-modified-id=\"Historically,-is-‘Julia’-a-more-popular-female-name-choice-than-‘Julie’?-1.2.12\"><span class=\"toc-item-num\">1.2.12&nbsp;&nbsp;</span>Historically, is ‘Julia’ a more popular female name choice than ‘Julie’?</a></span></li><li><span><a href=\"#When-did-‘Julia’-become-a-more-popular-female-name-than-‘Julie’?\" data-toc-modified-id=\"When-did-‘Julia’-become-a-more-popular-female-name-than-‘Julie’?-1.2.13\"><span class=\"toc-item-num\">1.2.13&nbsp;&nbsp;</span>When did ‘Julia’ become a more popular female name than ‘Julie’?</a></span></li></ul></li></ul></li></ul></div>"
   ]
  },
  {
   "cell_type": "markdown",
   "metadata": {},
   "source": [
    "# USA Name Analysis"
   ]
  },
  {
   "cell_type": "markdown",
   "metadata": {},
   "source": [
    "![anglo-american-names-dominate-norwegian-village](https://user-images.githubusercontent.com/32689388/41993884-7db39f60-7a01-11e8-9273-455b30a9fa12.jpg)\n"
   ]
  },
  {
   "cell_type": "markdown",
   "metadata": {},
   "source": [
    "## Introduction"
   ]
  },
  {
   "cell_type": "markdown",
   "metadata": {},
   "source": [
    "### Objective"
   ]
  },
  {
   "cell_type": "markdown",
   "metadata": {},
   "source": [
    "The objective of this project is to get familiar with Google BigQuery API and SQL by acquiring relational data from dataset usa_1910_current. Here I am trying to explore the dataset and answer the business question just by using SQL. Since this is my first data management project, it is more about entry level SQL."
   ]
  },
  {
   "cell_type": "markdown",
   "metadata": {},
   "source": [
    "### Questions to Explore the Dataset"
   ]
  },
  {
   "cell_type": "markdown",
   "metadata": {},
   "source": [
    "In order to explore and understand the dataset, I first came up with the following descriptive questions:\n",
    "\n",
    "* How many distinct years in the table?\n",
    "* How many records of names in each year?\n",
    "* How many different names in this records?\n",
    "* What are the top 10 popular names since 1910?\n",
    "* What are the top 10 popular names after 2000?\n",
    "* What are the names that are in the top 10 popular name list both since 1910 and since 2000?\n",
    "* Since Year 2000, how many total number of records with name ‘Julia’?\n",
    "* Since Year 2000, how many records with patterns name starting with ‘jul’ ?\n",
    "* Since Year 2000, how many female names contains ‘jul’, with total record counts per name greater than 10000?\n",
    "* Historically, is ‘Julia’ a more popular female name choice than ‘Julie’?\n",
    "* When did ‘Julia’ become a more popular female name than ‘Julie’?"
   ]
  },
  {
   "cell_type": "markdown",
   "metadata": {},
   "source": [
    "### Dataset"
   ]
  },
  {
   "cell_type": "markdown",
   "metadata": {},
   "source": [
    "![screen shot 2018-06-27 at 11 31 34 am](https://user-images.githubusercontent.com/32689388/41992781-3fd34108-79fe-11e8-95a8-65926189b839.png)"
   ]
  },
  {
   "cell_type": "markdown",
   "metadata": {},
   "source": [
    "## Data Acquisition and Analysis"
   ]
  },
  {
   "cell_type": "markdown",
   "metadata": {},
   "source": [
    "### Load Libraries"
   ]
  },
  {
   "cell_type": "code",
   "execution_count": 1,
   "metadata": {
    "collapsed": true
   },
   "outputs": [],
   "source": [
    "import numpy as np\n",
    "import pandas as pd\n",
    "import seaborn as sns\n",
    "import matplotlib.pyplot as plt\n",
    "from pandas.io import gbq\n",
    "\n",
    "%matplotlib inline"
   ]
  },
  {
   "cell_type": "code",
   "execution_count": 4,
   "metadata": {
    "collapsed": true
   },
   "outputs": [],
   "source": [
    "#In order to use BigQuerry API, we need to provide project ID to reach the data from the project\n",
    "project_id = 'sublime-oxygen-181503'"
   ]
  },
  {
   "cell_type": "markdown",
   "metadata": {},
   "source": [
    "### Brief View about the data\n"
   ]
  },
  {
   "cell_type": "code",
   "execution_count": 46,
   "metadata": {
    "collapsed": true
   },
   "outputs": [],
   "source": [
    "querry = \"\"\"\n",
    "\n",
    "SELECT \n",
    "    *\n",
    "FROM \n",
    "    `bigquery-public-data.usa_names.usa_1910_current`\n",
    "\n",
    "\"\"\""
   ]
  },
  {
   "cell_type": "code",
   "execution_count": 47,
   "metadata": {},
   "outputs": [
    {
     "data": {
      "text/html": [
       "<div>\n",
       "<style>\n",
       "    .dataframe thead tr:only-child th {\n",
       "        text-align: right;\n",
       "    }\n",
       "\n",
       "    .dataframe thead th {\n",
       "        text-align: left;\n",
       "    }\n",
       "\n",
       "    .dataframe tbody tr th {\n",
       "        vertical-align: top;\n",
       "    }\n",
       "</style>\n",
       "<table border=\"1\" class=\"dataframe\">\n",
       "  <thead>\n",
       "    <tr style=\"text-align: right;\">\n",
       "      <th></th>\n",
       "      <th>state</th>\n",
       "      <th>gender</th>\n",
       "      <th>year</th>\n",
       "      <th>name</th>\n",
       "      <th>number</th>\n",
       "    </tr>\n",
       "  </thead>\n",
       "  <tbody>\n",
       "    <tr>\n",
       "      <th>0</th>\n",
       "      <td>WV</td>\n",
       "      <td>F</td>\n",
       "      <td>1910</td>\n",
       "      <td>Mary</td>\n",
       "      <td>380</td>\n",
       "    </tr>\n",
       "    <tr>\n",
       "      <th>1</th>\n",
       "      <td>WV</td>\n",
       "      <td>F</td>\n",
       "      <td>1910</td>\n",
       "      <td>Virginia</td>\n",
       "      <td>144</td>\n",
       "    </tr>\n",
       "    <tr>\n",
       "      <th>2</th>\n",
       "      <td>WV</td>\n",
       "      <td>F</td>\n",
       "      <td>1910</td>\n",
       "      <td>Helen</td>\n",
       "      <td>124</td>\n",
       "    </tr>\n",
       "    <tr>\n",
       "      <th>3</th>\n",
       "      <td>WV</td>\n",
       "      <td>F</td>\n",
       "      <td>1910</td>\n",
       "      <td>Ruth</td>\n",
       "      <td>118</td>\n",
       "    </tr>\n",
       "    <tr>\n",
       "      <th>4</th>\n",
       "      <td>WV</td>\n",
       "      <td>F</td>\n",
       "      <td>1910</td>\n",
       "      <td>Margaret</td>\n",
       "      <td>115</td>\n",
       "    </tr>\n",
       "  </tbody>\n",
       "</table>\n",
       "</div>"
      ],
      "text/plain": [
       "  state gender  year      name  number\n",
       "0    WV      F  1910      Mary     380\n",
       "1    WV      F  1910  Virginia     144\n",
       "2    WV      F  1910     Helen     124\n",
       "3    WV      F  1910      Ruth     118\n",
       "4    WV      F  1910  Margaret     115"
      ]
     },
     "execution_count": 47,
     "metadata": {},
     "output_type": "execute_result"
    }
   ],
   "source": [
    "df1 = gbq.read_gbq(querry, project_id = project_id, dialect = \"standard\")\n",
    "df1.head()"
   ]
  },
  {
   "cell_type": "code",
   "execution_count": 48,
   "metadata": {},
   "outputs": [
    {
     "name": "stdout",
     "output_type": "stream",
     "text": [
      "<class 'pandas.core.frame.DataFrame'>\n",
      "RangeIndex: 5933561 entries, 0 to 5933560\n",
      "Data columns (total 5 columns):\n",
      "state     object\n",
      "gender    object\n",
      "year      int64\n",
      "name      object\n",
      "number    int64\n",
      "dtypes: int64(2), object(3)\n",
      "memory usage: 226.3+ MB\n"
     ]
    }
   ],
   "source": [
    "df1.info()"
   ]
  },
  {
   "cell_type": "markdown",
   "metadata": {},
   "source": [
    "**This is the dataset we have, and from the above summary, we can see that there are 5933560 records with 5 features. But in the real world business situation, a dataset usually as larget as hundards of GB or even TB with tons of features. Under such circumstance, it is not a good choice to select *. **"
   ]
  },
  {
   "cell_type": "markdown",
   "metadata": {},
   "source": [
    "### How many distinct years in the table?"
   ]
  },
  {
   "cell_type": "code",
   "execution_count": 15,
   "metadata": {
    "collapsed": true
   },
   "outputs": [],
   "source": [
    "querry = \"\"\"\n",
    "\n",
    "SELECT \n",
    "    COUNT (DISTINCT year) As Distinct_years\n",
    "FROM \n",
    "    `bigquery-public-data.usa_names.usa_1910_current`\n",
    "\n",
    "\"\"\""
   ]
  },
  {
   "cell_type": "code",
   "execution_count": 16,
   "metadata": {},
   "outputs": [
    {
     "data": {
      "text/html": [
       "<div>\n",
       "<style>\n",
       "    .dataframe thead tr:only-child th {\n",
       "        text-align: right;\n",
       "    }\n",
       "\n",
       "    .dataframe thead th {\n",
       "        text-align: left;\n",
       "    }\n",
       "\n",
       "    .dataframe tbody tr th {\n",
       "        vertical-align: top;\n",
       "    }\n",
       "</style>\n",
       "<table border=\"1\" class=\"dataframe\">\n",
       "  <thead>\n",
       "    <tr style=\"text-align: right;\">\n",
       "      <th></th>\n",
       "      <th>Distinct_years</th>\n",
       "    </tr>\n",
       "  </thead>\n",
       "  <tbody>\n",
       "    <tr>\n",
       "      <th>0</th>\n",
       "      <td>108</td>\n",
       "    </tr>\n",
       "  </tbody>\n",
       "</table>\n",
       "</div>"
      ],
      "text/plain": [
       "   Distinct_years\n",
       "0             108"
      ]
     },
     "execution_count": 16,
     "metadata": {},
     "output_type": "execute_result"
    }
   ],
   "source": [
    "df3 = gbq.read_gbq(querry, project_id = project_id, dialect = \"standard\")\n",
    "df3"
   ]
  },
  {
   "cell_type": "code",
   "execution_count": 57,
   "metadata": {},
   "outputs": [
    {
     "data": {
      "text/plain": [
       "108"
      ]
     },
     "execution_count": 57,
     "metadata": {},
     "output_type": "execute_result"
    }
   ],
   "source": [
    "# or we can get it from the dataset we already acquired\n",
    "df1.year.nunique()"
   ]
  },
  {
   "cell_type": "markdown",
   "metadata": {},
   "source": [
    "### How many records of names in each year?"
   ]
  },
  {
   "cell_type": "code",
   "execution_count": 41,
   "metadata": {
    "collapsed": true
   },
   "outputs": [],
   "source": [
    "querry = \"\"\"\n",
    "\n",
    "SELECT \n",
    "    year, SUM(number) As Yearly_Name_Records\n",
    "FROM \n",
    "    `bigquery-public-data.usa_names.usa_1910_current`\n",
    "GROUP BY\n",
    "    1\n",
    "\n",
    "\"\"\""
   ]
  },
  {
   "cell_type": "code",
   "execution_count": 43,
   "metadata": {},
   "outputs": [
    {
     "data": {
      "text/html": [
       "<div>\n",
       "<style>\n",
       "    .dataframe thead tr:only-child th {\n",
       "        text-align: right;\n",
       "    }\n",
       "\n",
       "    .dataframe thead th {\n",
       "        text-align: left;\n",
       "    }\n",
       "\n",
       "    .dataframe tbody tr th {\n",
       "        vertical-align: top;\n",
       "    }\n",
       "</style>\n",
       "<table border=\"1\" class=\"dataframe\">\n",
       "  <thead>\n",
       "    <tr style=\"text-align: right;\">\n",
       "      <th></th>\n",
       "      <th>year</th>\n",
       "      <th>Yearly_Name_Records</th>\n",
       "    </tr>\n",
       "  </thead>\n",
       "  <tbody>\n",
       "    <tr>\n",
       "      <th>0</th>\n",
       "      <td>1910</td>\n",
       "      <td>516314</td>\n",
       "    </tr>\n",
       "    <tr>\n",
       "      <th>1</th>\n",
       "      <td>1911</td>\n",
       "      <td>565822</td>\n",
       "    </tr>\n",
       "    <tr>\n",
       "      <th>2</th>\n",
       "      <td>1912</td>\n",
       "      <td>888001</td>\n",
       "    </tr>\n",
       "    <tr>\n",
       "      <th>3</th>\n",
       "      <td>1913</td>\n",
       "      <td>1028581</td>\n",
       "    </tr>\n",
       "    <tr>\n",
       "      <th>4</th>\n",
       "      <td>1914</td>\n",
       "      <td>1293346</td>\n",
       "    </tr>\n",
       "  </tbody>\n",
       "</table>\n",
       "</div>"
      ],
      "text/plain": [
       "   year  Yearly_Name_Records\n",
       "0  1910               516314\n",
       "1  1911               565822\n",
       "2  1912               888001\n",
       "3  1913              1028581\n",
       "4  1914              1293346"
      ]
     },
     "execution_count": 43,
     "metadata": {},
     "output_type": "execute_result"
    }
   ],
   "source": [
    "df2 = gbq.read_gbq(querry, project_id = project_id, dialect = \"standard\")\n",
    "df2.head()"
   ]
  },
  {
   "cell_type": "code",
   "execution_count": 44,
   "metadata": {
    "scrolled": false
   },
   "outputs": [
    {
     "name": "stdout",
     "output_type": "stream",
     "text": [
      "<class 'pandas.core.frame.DataFrame'>\n",
      "RangeIndex: 108 entries, 0 to 107\n",
      "Data columns (total 2 columns):\n",
      "year                   108 non-null int64\n",
      "Yearly_Name_Records    108 non-null int64\n",
      "dtypes: int64(2)\n",
      "memory usage: 1.8 KB\n"
     ]
    }
   ],
   "source": [
    "df2.info()"
   ]
  },
  {
   "cell_type": "markdown",
   "metadata": {},
   "source": [
    "### How many different names in this dataset?"
   ]
  },
  {
   "cell_type": "code",
   "execution_count": 50,
   "metadata": {
    "collapsed": true
   },
   "outputs": [],
   "source": [
    "querry = \"\"\"\n",
    "\n",
    "SELECT \n",
    "    name, sum(number) as ttl_number\n",
    "FROM \n",
    "    `bigquery-public-data.usa_names.usa_1910_current`\n",
    "GROUP BY \n",
    "    1\n",
    "ORDER BY \n",
    "    2 DESC\n",
    "\n",
    "\"\"\""
   ]
  },
  {
   "cell_type": "code",
   "execution_count": 51,
   "metadata": {},
   "outputs": [
    {
     "data": {
      "text/html": [
       "<div>\n",
       "<style>\n",
       "    .dataframe thead tr:only-child th {\n",
       "        text-align: right;\n",
       "    }\n",
       "\n",
       "    .dataframe thead th {\n",
       "        text-align: left;\n",
       "    }\n",
       "\n",
       "    .dataframe tbody tr th {\n",
       "        vertical-align: top;\n",
       "    }\n",
       "</style>\n",
       "<table border=\"1\" class=\"dataframe\">\n",
       "  <thead>\n",
       "    <tr style=\"text-align: right;\">\n",
       "      <th></th>\n",
       "      <th>name</th>\n",
       "      <th>ttl_number</th>\n",
       "    </tr>\n",
       "  </thead>\n",
       "  <tbody>\n",
       "    <tr>\n",
       "      <th>0</th>\n",
       "      <td>James</td>\n",
       "      <td>5001762</td>\n",
       "    </tr>\n",
       "    <tr>\n",
       "      <th>1</th>\n",
       "      <td>John</td>\n",
       "      <td>4875934</td>\n",
       "    </tr>\n",
       "    <tr>\n",
       "      <th>2</th>\n",
       "      <td>Robert</td>\n",
       "      <td>4743843</td>\n",
       "    </tr>\n",
       "    <tr>\n",
       "      <th>3</th>\n",
       "      <td>Michael</td>\n",
       "      <td>4354622</td>\n",
       "    </tr>\n",
       "    <tr>\n",
       "      <th>4</th>\n",
       "      <td>William</td>\n",
       "      <td>3886371</td>\n",
       "    </tr>\n",
       "  </tbody>\n",
       "</table>\n",
       "</div>"
      ],
      "text/plain": [
       "      name  ttl_number\n",
       "0    James     5001762\n",
       "1     John     4875934\n",
       "2   Robert     4743843\n",
       "3  Michael     4354622\n",
       "4  William     3886371"
      ]
     },
     "execution_count": 51,
     "metadata": {},
     "output_type": "execute_result"
    }
   ],
   "source": [
    "df11 = gbq.read_gbq(querry, project_id = project_id, dialect = \"standard\")\n",
    "df11.head()"
   ]
  },
  {
   "cell_type": "code",
   "execution_count": 52,
   "metadata": {},
   "outputs": [
    {
     "name": "stdout",
     "output_type": "stream",
     "text": [
      "<class 'pandas.core.frame.DataFrame'>\n",
      "RangeIndex: 31314 entries, 0 to 31313\n",
      "Data columns (total 2 columns):\n",
      "name          31314 non-null object\n",
      "ttl_number    31314 non-null int64\n",
      "dtypes: int64(1), object(1)\n",
      "memory usage: 489.4+ KB\n"
     ]
    }
   ],
   "source": [
    "df11.info()"
   ]
  },
  {
   "cell_type": "markdown",
   "metadata": {},
   "source": [
    "**There are 31314 different names in this dataset**"
   ]
  },
  {
   "cell_type": "markdown",
   "metadata": {},
   "source": [
    "### What are the top 10 popular names since 1910?"
   ]
  },
  {
   "cell_type": "code",
   "execution_count": 56,
   "metadata": {},
   "outputs": [
    {
     "data": {
      "text/plain": [
       "<matplotlib.text.Text at 0x1a3ca375c0>"
      ]
     },
     "execution_count": 56,
     "metadata": {},
     "output_type": "execute_result"
    },
    {
     "data": {
      "image/png": "[encoded data removed]",
      "text/plain": [
       "<matplotlib.figure.Figure at 0x1a200a47b8>"
      ]
     },
     "metadata": {},
     "output_type": "display_data"
    }
   ],
   "source": [
    "fig = plt.figure(figsize = (8,6))\n",
    "\n",
    "sns.barplot(x= 'name', y = 'ttl_number', data = df11[0:10])\n",
    "plt.title ('Top 10 popular names since 1910')"
   ]
  },
  {
   "cell_type": "markdown",
   "metadata": {},
   "source": [
    "**There are 31314 different names from this dataset.**"
   ]
  },
  {
   "cell_type": "markdown",
   "metadata": {},
   "source": [
    "### What are the top 10 popular name after year 2000?"
   ]
  },
  {
   "cell_type": "code",
   "execution_count": 99,
   "metadata": {
    "collapsed": true
   },
   "outputs": [],
   "source": [
    "querry = \"\"\"\n",
    "\n",
    "SELECT \n",
    "    name, sum(number) as ttl_number\n",
    "FROM \n",
    "    `bigquery-public-data.usa_names.usa_1910_current`\n",
    "WHERE\n",
    "    year >=2000\n",
    "GROUP BY \n",
    "    1\n",
    "ORDER BY \n",
    "    2 DESC\n",
    "\n",
    "\"\"\""
   ]
  },
  {
   "cell_type": "code",
   "execution_count": 100,
   "metadata": {},
   "outputs": [
    {
     "data": {
      "text/html": [
       "<div>\n",
       "<style>\n",
       "    .dataframe thead tr:only-child th {\n",
       "        text-align: right;\n",
       "    }\n",
       "\n",
       "    .dataframe thead th {\n",
       "        text-align: left;\n",
       "    }\n",
       "\n",
       "    .dataframe tbody tr th {\n",
       "        vertical-align: top;\n",
       "    }\n",
       "</style>\n",
       "<table border=\"1\" class=\"dataframe\">\n",
       "  <thead>\n",
       "    <tr style=\"text-align: right;\">\n",
       "      <th></th>\n",
       "      <th>name</th>\n",
       "      <th>ttl_number</th>\n",
       "    </tr>\n",
       "  </thead>\n",
       "  <tbody>\n",
       "    <tr>\n",
       "      <th>0</th>\n",
       "      <td>Jacob</td>\n",
       "      <td>414085</td>\n",
       "    </tr>\n",
       "    <tr>\n",
       "      <th>1</th>\n",
       "      <td>Michael</td>\n",
       "      <td>373154</td>\n",
       "    </tr>\n",
       "    <tr>\n",
       "      <th>2</th>\n",
       "      <td>Emma</td>\n",
       "      <td>339904</td>\n",
       "    </tr>\n",
       "    <tr>\n",
       "      <th>3</th>\n",
       "      <td>Ethan</td>\n",
       "      <td>327449</td>\n",
       "    </tr>\n",
       "    <tr>\n",
       "      <th>4</th>\n",
       "      <td>Matthew</td>\n",
       "      <td>327057</td>\n",
       "    </tr>\n",
       "  </tbody>\n",
       "</table>\n",
       "</div>"
      ],
      "text/plain": [
       "      name  ttl_number\n",
       "0    Jacob      414085\n",
       "1  Michael      373154\n",
       "2     Emma      339904\n",
       "3    Ethan      327449\n",
       "4  Matthew      327057"
      ]
     },
     "execution_count": 100,
     "metadata": {},
     "output_type": "execute_result"
    }
   ],
   "source": [
    "df13 = gbq.read_gbq(querry, project_id = project_id, dialect = \"standard\")\n",
    "df13.head()"
   ]
  },
  {
   "cell_type": "code",
   "execution_count": 101,
   "metadata": {},
   "outputs": [
    {
     "data": {
      "text/plain": [
       "<matplotlib.text.Text at 0x1a8f338898>"
      ]
     },
     "execution_count": 101,
     "metadata": {},
     "output_type": "execute_result"
    },
    {
     "data": {
      "image/png": "[encoded data removed]",
      "text/plain": [
       "<matplotlib.figure.Figure at 0x1a8f818908>"
      ]
     },
     "metadata": {},
     "output_type": "display_data"
    }
   ],
   "source": [
    "fig = plt.figure(figsize = (8,6))\n",
    "\n",
    "sns.barplot(x= 'name', y = 'ttl_number', data = df13[0:10])\n",
    "plt.title ('Top 10 popular names since 2000')"
   ]
  },
  {
   "cell_type": "markdown",
   "metadata": {},
   "source": [
    "### What are the names that are in the top 10 popular name list both since 1910 and since 2000?"
   ]
  },
  {
   "cell_type": "code",
   "execution_count": 132,
   "metadata": {},
   "outputs": [
    {
     "data": {
      "text/plain": [
       "['Michael', 'William']"
      ]
     },
     "execution_count": 132,
     "metadata": {},
     "output_type": "execute_result"
    }
   ],
   "source": [
    "list(set(df13[0:10]['name']) & set(df11[0:10]['name']))"
   ]
  },
  {
   "cell_type": "markdown",
   "metadata": {},
   "source": [
    "### Since Year 2000, how many total number of records with name ‘Julia’? "
   ]
  },
  {
   "cell_type": "code",
   "execution_count": 17,
   "metadata": {
    "collapsed": true
   },
   "outputs": [],
   "source": [
    "querry = \"\"\"\n",
    "\n",
    "SELECT \n",
    "    SUM (number) AS ttl_number\n",
    "FROM \n",
    "    `bigquery-public-data.usa_names.usa_1910_current`\n",
    "WHERE \n",
    "    year >= 2000 AND name = 'Julia'\n",
    "\n",
    "\"\"\""
   ]
  },
  {
   "cell_type": "code",
   "execution_count": 18,
   "metadata": {},
   "outputs": [
    {
     "data": {
      "text/html": [
       "<div>\n",
       "<style>\n",
       "    .dataframe thead tr:only-child th {\n",
       "        text-align: right;\n",
       "    }\n",
       "\n",
       "    .dataframe thead th {\n",
       "        text-align: left;\n",
       "    }\n",
       "\n",
       "    .dataframe tbody tr th {\n",
       "        vertical-align: top;\n",
       "    }\n",
       "</style>\n",
       "<table border=\"1\" class=\"dataframe\">\n",
       "  <thead>\n",
       "    <tr style=\"text-align: right;\">\n",
       "      <th></th>\n",
       "      <th>ttl_number</th>\n",
       "    </tr>\n",
       "  </thead>\n",
       "  <tbody>\n",
       "    <tr>\n",
       "      <th>0</th>\n",
       "      <td>100877</td>\n",
       "    </tr>\n",
       "  </tbody>\n",
       "</table>\n",
       "</div>"
      ],
      "text/plain": [
       "   ttl_number\n",
       "0      100877"
      ]
     },
     "execution_count": 18,
     "metadata": {},
     "output_type": "execute_result"
    }
   ],
   "source": [
    "df4 = gbq.read_gbq(querry, project_id = project_id, dialect = \"standard\")\n",
    "df4"
   ]
  },
  {
   "cell_type": "markdown",
   "metadata": {},
   "source": [
    "### Since Year 2000, how many records with patterns name starting with ‘jul’ ?  "
   ]
  },
  {
   "cell_type": "code",
   "execution_count": 123,
   "metadata": {
    "collapsed": true
   },
   "outputs": [],
   "source": [
    "querry = \"\"\"\n",
    "\n",
    "SELECT \n",
    "    name, SUM (number) AS ttl_number\n",
    "FROM \n",
    "    `bigquery-public-data.usa_names.usa_1910_current`\n",
    "WHERE \n",
    "    year >= 2000 AND LOWER(name) LIKE 'jul%'\n",
    "GROUP BY\n",
    "    1\n",
    "ORDER BY\n",
    "    2 DESC\n",
    "\n",
    "\"\"\""
   ]
  },
  {
   "cell_type": "code",
   "execution_count": 124,
   "metadata": {},
   "outputs": [
    {
     "data": {
      "text/html": [
       "<div>\n",
       "<style>\n",
       "    .dataframe thead tr:only-child th {\n",
       "        text-align: right;\n",
       "    }\n",
       "\n",
       "    .dataframe thead th {\n",
       "        text-align: left;\n",
       "    }\n",
       "\n",
       "    .dataframe tbody tr th {\n",
       "        vertical-align: top;\n",
       "    }\n",
       "</style>\n",
       "<table border=\"1\" class=\"dataframe\">\n",
       "  <thead>\n",
       "    <tr style=\"text-align: right;\">\n",
       "      <th></th>\n",
       "      <th>name</th>\n",
       "      <th>ttl_number</th>\n",
       "    </tr>\n",
       "  </thead>\n",
       "  <tbody>\n",
       "    <tr>\n",
       "      <th>0</th>\n",
       "      <td>Julian</td>\n",
       "      <td>123110</td>\n",
       "    </tr>\n",
       "    <tr>\n",
       "      <th>1</th>\n",
       "      <td>Julia</td>\n",
       "      <td>100877</td>\n",
       "    </tr>\n",
       "    <tr>\n",
       "      <th>2</th>\n",
       "      <td>Juliana</td>\n",
       "      <td>36162</td>\n",
       "    </tr>\n",
       "    <tr>\n",
       "      <th>3</th>\n",
       "      <td>Julianna</td>\n",
       "      <td>29979</td>\n",
       "    </tr>\n",
       "    <tr>\n",
       "      <th>4</th>\n",
       "      <td>Julio</td>\n",
       "      <td>17959</td>\n",
       "    </tr>\n",
       "  </tbody>\n",
       "</table>\n",
       "</div>"
      ],
      "text/plain": [
       "       name  ttl_number\n",
       "0    Julian      123110\n",
       "1     Julia      100877\n",
       "2   Juliana       36162\n",
       "3  Julianna       29979\n",
       "4     Julio       17959"
      ]
     },
     "execution_count": 124,
     "metadata": {},
     "output_type": "execute_result"
    }
   ],
   "source": [
    "df5 = gbq.read_gbq(querry, project_id = project_id, dialect = \"standard\")\n",
    "df5.head()"
   ]
  },
  {
   "cell_type": "code",
   "execution_count": 125,
   "metadata": {},
   "outputs": [
    {
     "name": "stdout",
     "output_type": "stream",
     "text": [
      "<class 'pandas.core.frame.DataFrame'>\n",
      "RangeIndex: 50 entries, 0 to 49\n",
      "Data columns (total 2 columns):\n",
      "name          50 non-null object\n",
      "ttl_number    50 non-null int64\n",
      "dtypes: int64(1), object(1)\n",
      "memory usage: 880.0+ bytes\n"
     ]
    }
   ],
   "source": [
    "df5.info()"
   ]
  },
  {
   "cell_type": "code",
   "execution_count": 128,
   "metadata": {},
   "outputs": [
    {
     "data": {
      "text/plain": [
       "<matplotlib.axes._subplots.AxesSubplot at 0x1a86358da0>"
      ]
     },
     "execution_count": 128,
     "metadata": {},
     "output_type": "execute_result"
    },
    {
     "data": {
      "image/png": "[encoded data removed]",
      "text/plain": [
       "<matplotlib.figure.Figure at 0x1a71cd8908>"
      ]
     },
     "metadata": {},
     "output_type": "display_data"
    }
   ],
   "source": [
    "sns.barplot(x = 'name', y = 'ttl_number', data = df5[0:10])"
   ]
  },
  {
   "cell_type": "markdown",
   "metadata": {},
   "source": [
    "### Since Year 2000, how many female names contains ‘jul’, with total record counts per name greater than 10000?"
   ]
  },
  {
   "cell_type": "code",
   "execution_count": 27,
   "metadata": {
    "collapsed": true
   },
   "outputs": [],
   "source": [
    "querry = \"\"\"\n",
    "\n",
    "SELECT \n",
    "    name, SUM (number) AS ttl_number\n",
    "FROM \n",
    "    `bigquery-public-data.usa_names.usa_1910_current`\n",
    "WHERE \n",
    "    year >= 2000 AND gender = 'F' AND LOWER(name) LIKE '%jul%'\n",
    "GROUP BY \n",
    "    name\n",
    "HAVING \n",
    "    SUM (number) > 10000\n",
    "ORDER BY \n",
    "    ttl_number DESC\n",
    "\n",
    "\"\"\""
   ]
  },
  {
   "cell_type": "code",
   "execution_count": 28,
   "metadata": {},
   "outputs": [
    {
     "data": {
      "text/html": [
       "<div>\n",
       "<style>\n",
       "    .dataframe thead tr:only-child th {\n",
       "        text-align: right;\n",
       "    }\n",
       "\n",
       "    .dataframe thead th {\n",
       "        text-align: left;\n",
       "    }\n",
       "\n",
       "    .dataframe tbody tr th {\n",
       "        vertical-align: top;\n",
       "    }\n",
       "</style>\n",
       "<table border=\"1\" class=\"dataframe\">\n",
       "  <thead>\n",
       "    <tr style=\"text-align: right;\">\n",
       "      <th></th>\n",
       "      <th>name</th>\n",
       "      <th>ttl_number</th>\n",
       "    </tr>\n",
       "  </thead>\n",
       "  <tbody>\n",
       "    <tr>\n",
       "      <th>0</th>\n",
       "      <td>Julia</td>\n",
       "      <td>100866</td>\n",
       "    </tr>\n",
       "    <tr>\n",
       "      <th>1</th>\n",
       "      <td>Juliana</td>\n",
       "      <td>36162</td>\n",
       "    </tr>\n",
       "    <tr>\n",
       "      <th>2</th>\n",
       "      <td>Julianna</td>\n",
       "      <td>29979</td>\n",
       "    </tr>\n",
       "    <tr>\n",
       "      <th>3</th>\n",
       "      <td>Julie</td>\n",
       "      <td>17899</td>\n",
       "    </tr>\n",
       "    <tr>\n",
       "      <th>4</th>\n",
       "      <td>Juliet</td>\n",
       "      <td>15285</td>\n",
       "    </tr>\n",
       "    <tr>\n",
       "      <th>5</th>\n",
       "      <td>Julissa</td>\n",
       "      <td>15099</td>\n",
       "    </tr>\n",
       "    <tr>\n",
       "      <th>6</th>\n",
       "      <td>Juliette</td>\n",
       "      <td>13624</td>\n",
       "    </tr>\n",
       "  </tbody>\n",
       "</table>\n",
       "</div>"
      ],
      "text/plain": [
       "       name  ttl_number\n",
       "0     Julia      100866\n",
       "1   Juliana       36162\n",
       "2  Julianna       29979\n",
       "3     Julie       17899\n",
       "4    Juliet       15285\n",
       "5   Julissa       15099\n",
       "6  Juliette       13624"
      ]
     },
     "execution_count": 28,
     "metadata": {},
     "output_type": "execute_result"
    }
   ],
   "source": [
    "df8 = gbq.read_gbq(querry, project_id = project_id, dialect = \"standard\")\n",
    "df8"
   ]
  },
  {
   "cell_type": "code",
   "execution_count": 129,
   "metadata": {},
   "outputs": [
    {
     "data": {
      "text/plain": [
       "<matplotlib.axes._subplots.AxesSubplot at 0x1a7ee64780>"
      ]
     },
     "execution_count": 129,
     "metadata": {},
     "output_type": "execute_result"
    },
    {
     "data": {
      "image/png": "[encoded data removed]",
      "text/plain": [
       "<matplotlib.figure.Figure at 0x1a7910ea58>"
      ]
     },
     "metadata": {},
     "output_type": "display_data"
    }
   ],
   "source": [
    "sns.barplot(x = 'name', y = 'ttl_number', data = df8)"
   ]
  },
  {
   "cell_type": "markdown",
   "metadata": {},
   "source": [
    "### Historically, is ‘Julia’ a more popular female name choice than ‘Julie’? "
   ]
  },
  {
   "cell_type": "code",
   "execution_count": 29,
   "metadata": {
    "collapsed": true
   },
   "outputs": [],
   "source": [
    "querry = \"\"\"\n",
    "\n",
    "SELECT \n",
    "    name, SUM (number) AS ttl_number\n",
    "FROM \n",
    "    `bigquery-public-data.usa_names.usa_1910_current`\n",
    "WHERE \n",
    "    name IN ('Julia', 'Julie') AND gender = 'F'\n",
    "GROUP BY \n",
    "    name\n",
    "ORDER BY \n",
    "    ttl_number DESC\n",
    "\n",
    "\"\"\""
   ]
  },
  {
   "cell_type": "code",
   "execution_count": 30,
   "metadata": {},
   "outputs": [
    {
     "data": {
      "text/html": [
       "<div>\n",
       "<style>\n",
       "    .dataframe thead tr:only-child th {\n",
       "        text-align: right;\n",
       "    }\n",
       "\n",
       "    .dataframe thead th {\n",
       "        text-align: left;\n",
       "    }\n",
       "\n",
       "    .dataframe tbody tr th {\n",
       "        vertical-align: top;\n",
       "    }\n",
       "</style>\n",
       "<table border=\"1\" class=\"dataframe\">\n",
       "  <thead>\n",
       "    <tr style=\"text-align: right;\">\n",
       "      <th></th>\n",
       "      <th>name</th>\n",
       "      <th>ttl_number</th>\n",
       "    </tr>\n",
       "  </thead>\n",
       "  <tbody>\n",
       "    <tr>\n",
       "      <th>0</th>\n",
       "      <td>Julie</td>\n",
       "      <td>504524</td>\n",
       "    </tr>\n",
       "    <tr>\n",
       "      <th>1</th>\n",
       "      <td>Julia</td>\n",
       "      <td>415894</td>\n",
       "    </tr>\n",
       "  </tbody>\n",
       "</table>\n",
       "</div>"
      ],
      "text/plain": [
       "    name  ttl_number\n",
       "0  Julie      504524\n",
       "1  Julia      415894"
      ]
     },
     "execution_count": 30,
     "metadata": {},
     "output_type": "execute_result"
    }
   ],
   "source": [
    "df9 = gbq.read_gbq(querry, project_id = project_id, dialect = \"standard\")\n",
    "df9"
   ]
  },
  {
   "cell_type": "markdown",
   "metadata": {},
   "source": [
    "** Historially, the name 'Julia' is not more popular than the name 'Julie'.**"
   ]
  },
  {
   "cell_type": "markdown",
   "metadata": {},
   "source": [
    "### When did ‘Julia’ become a more popular female name than ‘Julie’?"
   ]
  },
  {
   "cell_type": "code",
   "execution_count": 31,
   "metadata": {
    "collapsed": true
   },
   "outputs": [],
   "source": [
    "querry = \"\"\"\n",
    "\n",
    "SELECT \n",
    "    year, name, SUM (number) AS ttl_number\n",
    "FROM \n",
    "    `bigquery-public-data.usa_names.usa_1910_current`\n",
    "WHERE \n",
    "    name IN ('Julia', 'Julie') AND gender = 'F'\n",
    "GROUP BY \n",
    "    year, name\n",
    "ORDER BY \n",
    "    year DESC\n",
    "\n",
    "\"\"\""
   ]
  },
  {
   "cell_type": "code",
   "execution_count": 33,
   "metadata": {},
   "outputs": [
    {
     "data": {
      "text/html": [
       "<div>\n",
       "<style>\n",
       "    .dataframe thead tr:only-child th {\n",
       "        text-align: right;\n",
       "    }\n",
       "\n",
       "    .dataframe thead th {\n",
       "        text-align: left;\n",
       "    }\n",
       "\n",
       "    .dataframe tbody tr th {\n",
       "        vertical-align: top;\n",
       "    }\n",
       "</style>\n",
       "<table border=\"1\" class=\"dataframe\">\n",
       "  <thead>\n",
       "    <tr style=\"text-align: right;\">\n",
       "      <th></th>\n",
       "      <th>year</th>\n",
       "      <th>name</th>\n",
       "      <th>ttl_number</th>\n",
       "    </tr>\n",
       "  </thead>\n",
       "  <tbody>\n",
       "    <tr>\n",
       "      <th>0</th>\n",
       "      <td>2017</td>\n",
       "      <td>Julie</td>\n",
       "      <td>557</td>\n",
       "    </tr>\n",
       "    <tr>\n",
       "      <th>1</th>\n",
       "      <td>2017</td>\n",
       "      <td>Julia</td>\n",
       "      <td>3111</td>\n",
       "    </tr>\n",
       "    <tr>\n",
       "      <th>2</th>\n",
       "      <td>2016</td>\n",
       "      <td>Julie</td>\n",
       "      <td>608</td>\n",
       "    </tr>\n",
       "    <tr>\n",
       "      <th>3</th>\n",
       "      <td>2016</td>\n",
       "      <td>Julia</td>\n",
       "      <td>3316</td>\n",
       "    </tr>\n",
       "    <tr>\n",
       "      <th>4</th>\n",
       "      <td>2015</td>\n",
       "      <td>Julie</td>\n",
       "      <td>658</td>\n",
       "    </tr>\n",
       "  </tbody>\n",
       "</table>\n",
       "</div>"
      ],
      "text/plain": [
       "   year   name  ttl_number\n",
       "0  2017  Julie         557\n",
       "1  2017  Julia        3111\n",
       "2  2016  Julie         608\n",
       "3  2016  Julia        3316\n",
       "4  2015  Julie         658"
      ]
     },
     "execution_count": 33,
     "metadata": {},
     "output_type": "execute_result"
    }
   ],
   "source": [
    "df10 = gbq.read_gbq(querry, project_id = project_id, dialect = \"standard\")\n",
    "df10.head()"
   ]
  },
  {
   "cell_type": "code",
   "execution_count": 111,
   "metadata": {},
   "outputs": [
    {
     "name": "stdout",
     "output_type": "stream",
     "text": [
      "<class 'pandas.core.frame.DataFrame'>\n",
      "RangeIndex: 216 entries, 0 to 215\n",
      "Data columns (total 3 columns):\n",
      "year          216 non-null int64\n",
      "name          216 non-null object\n",
      "ttl_number    216 non-null int64\n",
      "dtypes: int64(2), object(1)\n",
      "memory usage: 5.1+ KB\n"
     ]
    }
   ],
   "source": [
    "df10.info()"
   ]
  },
  {
   "cell_type": "markdown",
   "metadata": {},
   "source": [
    "** If we have data structured in this way, we can use python to merge and visualize it.**"
   ]
  },
  {
   "cell_type": "code",
   "execution_count": 35,
   "metadata": {
    "collapsed": true
   },
   "outputs": [],
   "source": [
    "julia = df10[df10['name'] == 'Julia']\n",
    "julie = df10[df10['name'] == 'Julie']"
   ]
  },
  {
   "cell_type": "code",
   "execution_count": 114,
   "metadata": {},
   "outputs": [
    {
     "data": {
      "text/html": [
       "<div>\n",
       "<style>\n",
       "    .dataframe thead tr:only-child th {\n",
       "        text-align: right;\n",
       "    }\n",
       "\n",
       "    .dataframe thead th {\n",
       "        text-align: left;\n",
       "    }\n",
       "\n",
       "    .dataframe tbody tr th {\n",
       "        vertical-align: top;\n",
       "    }\n",
       "</style>\n",
       "<table border=\"1\" class=\"dataframe\">\n",
       "  <thead>\n",
       "    <tr style=\"text-align: right;\">\n",
       "      <th></th>\n",
       "      <th>year</th>\n",
       "      <th>name_Julia</th>\n",
       "      <th>ttl_number_Julia</th>\n",
       "      <th>name_Julie</th>\n",
       "      <th>ttl_number_Julie</th>\n",
       "    </tr>\n",
       "  </thead>\n",
       "  <tbody>\n",
       "    <tr>\n",
       "      <th>0</th>\n",
       "      <td>2017</td>\n",
       "      <td>Julia</td>\n",
       "      <td>3111</td>\n",
       "      <td>Julie</td>\n",
       "      <td>557</td>\n",
       "    </tr>\n",
       "    <tr>\n",
       "      <th>1</th>\n",
       "      <td>2016</td>\n",
       "      <td>Julia</td>\n",
       "      <td>3316</td>\n",
       "      <td>Julie</td>\n",
       "      <td>608</td>\n",
       "    </tr>\n",
       "    <tr>\n",
       "      <th>2</th>\n",
       "      <td>2015</td>\n",
       "      <td>Julia</td>\n",
       "      <td>3370</td>\n",
       "      <td>Julie</td>\n",
       "      <td>658</td>\n",
       "    </tr>\n",
       "    <tr>\n",
       "      <th>3</th>\n",
       "      <td>2014</td>\n",
       "      <td>Julia</td>\n",
       "      <td>3596</td>\n",
       "      <td>Julie</td>\n",
       "      <td>749</td>\n",
       "    </tr>\n",
       "    <tr>\n",
       "      <th>4</th>\n",
       "      <td>2013</td>\n",
       "      <td>Julia</td>\n",
       "      <td>3739</td>\n",
       "      <td>Julie</td>\n",
       "      <td>744</td>\n",
       "    </tr>\n",
       "  </tbody>\n",
       "</table>\n",
       "</div>"
      ],
      "text/plain": [
       "   year name_Julia  ttl_number_Julia name_Julie  ttl_number_Julie\n",
       "0  2017      Julia              3111      Julie               557\n",
       "1  2016      Julia              3316      Julie               608\n",
       "2  2015      Julia              3370      Julie               658\n",
       "3  2014      Julia              3596      Julie               749\n",
       "4  2013      Julia              3739      Julie               744"
      ]
     },
     "execution_count": 114,
     "metadata": {},
     "output_type": "execute_result"
    }
   ],
   "source": [
    "combine = julia.merge(julie, on='year', how='inner',suffixes=('_Julia', '_Julie'))\n",
    "combine.head()"
   ]
  },
  {
   "cell_type": "markdown",
   "metadata": {},
   "source": [
    "** However, we can structre the data when acquiring data from data warehouse. Then things would be easier to analyze and visualize. **"
   ]
  },
  {
   "cell_type": "code",
   "execution_count": 88,
   "metadata": {
    "collapsed": true
   },
   "outputs": [],
   "source": [
    "# Another way to acquire data\n",
    "querry = \"\"\"\n",
    "\n",
    "with julia as(\n",
    "select \n",
    "    year, sum(if(name = 'Julia' and gender = 'F', number, 0)) as ttl_julia\n",
    "from \n",
    "    `bigquery-public-data.usa_names.usa_1910_current`\n",
    "group by 1\n",
    "order by 1 desc\n",
    "), \n",
    "\n",
    "julie as(\n",
    "select \n",
    "    year, sum(if(name = 'Julie' and gender = 'F', number, 0)) as ttl_julie\n",
    "from \n",
    "    `bigquery-public-data.usa_names.usa_1910_current`\n",
    "group by 1\n",
    "order by 1 desc\n",
    ")\n",
    "\n",
    "select \n",
    "    julia.*, julie.ttl_julie\n",
    "from \n",
    "    julia\n",
    "join \n",
    "    julie\n",
    "using \n",
    "    (year)\n",
    "order by \n",
    "    1 desc\n",
    "\"\"\""
   ]
  },
  {
   "cell_type": "code",
   "execution_count": 89,
   "metadata": {
    "scrolled": true
   },
   "outputs": [
    {
     "data": {
      "text/html": [
       "<div>\n",
       "<style>\n",
       "    .dataframe thead tr:only-child th {\n",
       "        text-align: right;\n",
       "    }\n",
       "\n",
       "    .dataframe thead th {\n",
       "        text-align: left;\n",
       "    }\n",
       "\n",
       "    .dataframe tbody tr th {\n",
       "        vertical-align: top;\n",
       "    }\n",
       "</style>\n",
       "<table border=\"1\" class=\"dataframe\">\n",
       "  <thead>\n",
       "    <tr style=\"text-align: right;\">\n",
       "      <th></th>\n",
       "      <th>year</th>\n",
       "      <th>ttl_julia</th>\n",
       "      <th>ttl_julie</th>\n",
       "    </tr>\n",
       "  </thead>\n",
       "  <tbody>\n",
       "    <tr>\n",
       "      <th>0</th>\n",
       "      <td>2017</td>\n",
       "      <td>3111</td>\n",
       "      <td>557</td>\n",
       "    </tr>\n",
       "    <tr>\n",
       "      <th>1</th>\n",
       "      <td>2016</td>\n",
       "      <td>3316</td>\n",
       "      <td>608</td>\n",
       "    </tr>\n",
       "    <tr>\n",
       "      <th>2</th>\n",
       "      <td>2015</td>\n",
       "      <td>3370</td>\n",
       "      <td>658</td>\n",
       "    </tr>\n",
       "    <tr>\n",
       "      <th>3</th>\n",
       "      <td>2014</td>\n",
       "      <td>3596</td>\n",
       "      <td>749</td>\n",
       "    </tr>\n",
       "    <tr>\n",
       "      <th>4</th>\n",
       "      <td>2013</td>\n",
       "      <td>3739</td>\n",
       "      <td>744</td>\n",
       "    </tr>\n",
       "  </tbody>\n",
       "</table>\n",
       "</div>"
      ],
      "text/plain": [
       "   year  ttl_julia  ttl_julie\n",
       "0  2017       3111        557\n",
       "1  2016       3316        608\n",
       "2  2015       3370        658\n",
       "3  2014       3596        749\n",
       "4  2013       3739        744"
      ]
     },
     "execution_count": 89,
     "metadata": {},
     "output_type": "execute_result"
    }
   ],
   "source": [
    "df12 = gbq.read_gbq(querry, project_id = project_id, dialect = \"standard\")\n",
    "df12.head()"
   ]
  },
  {
   "cell_type": "code",
   "execution_count": 117,
   "metadata": {},
   "outputs": [
    {
     "data": {
      "text/plain": [
       "array([1989, 1988, 1987, 1986, 1985, 1984, 1983, 1982, 1981, 1980, 1979,\n",
       "       1978, 1977, 1976, 1975, 1974, 1973, 1972, 1971, 1970, 1969, 1968,\n",
       "       1967, 1966, 1965, 1964, 1963, 1962, 1961, 1960, 1959, 1958, 1957,\n",
       "       1956, 1955, 1954, 1953, 1952, 1951, 1950, 1948])"
      ]
     },
     "execution_count": 117,
     "metadata": {},
     "output_type": "execute_result"
    }
   ],
   "source": [
    "year = combine['year'][combine['ttl_number_Julie'] > combine['ttl_number_Julia']].tolist()\n",
    "year = np.asarray(year)\n",
    "year"
   ]
  },
  {
   "cell_type": "code",
   "execution_count": 93,
   "metadata": {
    "scrolled": false
   },
   "outputs": [
    {
     "data": {
      "image/png": "[encoded data removed]",
      "text/plain": [
       "<matplotlib.figure.Figure at 0x1a82b9efd0>"
      ]
     },
     "metadata": {},
     "output_type": "display_data"
    }
   ],
   "source": [
    "plt.style.use('seaborn-white')\n",
    "fig = plt.figure(figsize = (12,6))\n",
    "\n",
    "plt.plot(julia['year'], julia['ttl_number'], label = 'Julia')\n",
    "plt.plot(julie['year'], julie['ttl_number'], label = 'Julie')\n",
    "\n",
    "plt.title('Julia vs. Julie from 1910 to 2018', fontsize = 12)\n",
    "plt.xlabel('Year', fontsize = 12)\n",
    "plt.ylabel('Numbers of People', fontsize = 12)\n",
    "plt.legend(loc = 'upper left')\n",
    "plt.show()"
   ]
  },
  {
   "cell_type": "markdown",
   "metadata": {},
   "source": [
    "From the result, we can see that in the year 1948 and the range from 1950-1989, the name 'Julie' is more popular than the name 'Julia'."
   ]
  }
 ],
 "metadata": {
  "kernelspec": {
   "display_name": "Python 3",
   "language": "python",
   "name": "python3"
  },
  "language_info": {
   "codemirror_mode": {
    "name": "ipython",
    "version": 3
   },
   "file_extension": ".py",
   "mimetype": "text/x-python",
   "name": "python",
   "nbconvert_exporter": "python",
   "pygments_lexer": "ipython3",
   "version": "3.6.5"
  },
  "toc": {
   "nav_menu": {},
   "number_sections": true,
   "sideBar": true,
   "skip_h1_title": false,
   "title_cell": "Table of Contents",
   "title_sidebar": "Contents",
   "toc_cell": true,
   "toc_position": {},
   "toc_section_display": true,
   "toc_window_display": false
  }
 },
 "nbformat": 4,
 "nbformat_minor": 2
}
